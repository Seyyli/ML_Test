{
 "cells": [
  {
   "cell_type": "markdown",
   "id": "4a765066",
   "metadata": {},
   "source": [
    "## Chargement des packages "
   ]
  },
  {
   "cell_type": "code",
   "execution_count": 1,
   "id": "10fa5dd4",
   "metadata": {},
   "outputs": [],
   "source": [
    "import pandas as pd\n",
    "import numpy as np\n",
    "import matplotlib.pyplot as plt\n",
    "import seaborn as sns\n",
    "import scipy.stats as ss\n",
    "from sklearn import tree\n",
    "from sklearn.model_selection import train_test_split\n",
    "from sklearn.ensemble import RandomForestClassifier, ExtraTreesClassifier\n",
    "from sklearn.tree import DecisionTreeClassifier\n",
    "from sklearn import metrics\n",
    "from sklearn.naive_bayes import GaussianNB\n",
    "from sklearn.model_selection import GridSearchCV, cross_val_score\n",
    "from sklearn.linear_model import LogisticRegression\n",
    "from sklearn.neighbors import KNeighborsClassifier\n",
    "from sklearn.svm import LinearSVC\n",
    "from sklearn.linear_model import SGDClassifier\n",
    "from sklearn.neural_network import MLPClassifier\n",
    "from sklearn.metrics import roc_curve\n",
    "from sklearn.metrics import roc_auc_score"
   ]
  },
  {
   "cell_type": "markdown",
   "id": "106bc692",
   "metadata": {},
   "source": [
    "## Importation des données"
   ]
  },
  {
   "cell_type": "code",
   "execution_count": 2,
   "id": "6dce6994",
   "metadata": {
    "scrolled": true
   },
   "outputs": [
    {
     "data": {
      "text/html": [
       "<div>\n",
       "<style scoped>\n",
       "    .dataframe tbody tr th:only-of-type {\n",
       "        vertical-align: middle;\n",
       "    }\n",
       "\n",
       "    .dataframe tbody tr th {\n",
       "        vertical-align: top;\n",
       "    }\n",
       "\n",
       "    .dataframe thead th {\n",
       "        text-align: right;\n",
       "    }\n",
       "</style>\n",
       "<table border=\"1\" class=\"dataframe\">\n",
       "  <thead>\n",
       "    <tr style=\"text-align: right;\">\n",
       "      <th></th>\n",
       "      <th>age</th>\n",
       "      <th>workclass</th>\n",
       "      <th>fnlwgt</th>\n",
       "      <th>education</th>\n",
       "      <th>education_num</th>\n",
       "      <th>marital_status</th>\n",
       "      <th>occupation</th>\n",
       "      <th>relationship</th>\n",
       "      <th>race</th>\n",
       "      <th>sex</th>\n",
       "      <th>capital_gain</th>\n",
       "      <th>capital_loss</th>\n",
       "      <th>hours_per_week</th>\n",
       "      <th>country</th>\n",
       "      <th>income</th>\n",
       "    </tr>\n",
       "  </thead>\n",
       "  <tbody>\n",
       "    <tr>\n",
       "      <th>0</th>\n",
       "      <td>39</td>\n",
       "      <td>State-gov</td>\n",
       "      <td>77516</td>\n",
       "      <td>Bachelors</td>\n",
       "      <td>13</td>\n",
       "      <td>Never-married</td>\n",
       "      <td>Adm-clerical</td>\n",
       "      <td>Not-in-family</td>\n",
       "      <td>White</td>\n",
       "      <td>Male</td>\n",
       "      <td>2174</td>\n",
       "      <td>0</td>\n",
       "      <td>40</td>\n",
       "      <td>United-States</td>\n",
       "      <td>&lt;=50K</td>\n",
       "    </tr>\n",
       "    <tr>\n",
       "      <th>1</th>\n",
       "      <td>50</td>\n",
       "      <td>Self-emp-not-inc</td>\n",
       "      <td>83311</td>\n",
       "      <td>Bachelors</td>\n",
       "      <td>13</td>\n",
       "      <td>Married-civ-spouse</td>\n",
       "      <td>Exec-managerial</td>\n",
       "      <td>Husband</td>\n",
       "      <td>White</td>\n",
       "      <td>Male</td>\n",
       "      <td>0</td>\n",
       "      <td>0</td>\n",
       "      <td>13</td>\n",
       "      <td>United-States</td>\n",
       "      <td>&lt;=50K</td>\n",
       "    </tr>\n",
       "    <tr>\n",
       "      <th>2</th>\n",
       "      <td>38</td>\n",
       "      <td>Private</td>\n",
       "      <td>215646</td>\n",
       "      <td>HS-grad</td>\n",
       "      <td>9</td>\n",
       "      <td>Divorced</td>\n",
       "      <td>Handlers-cleaners</td>\n",
       "      <td>Not-in-family</td>\n",
       "      <td>White</td>\n",
       "      <td>Male</td>\n",
       "      <td>0</td>\n",
       "      <td>0</td>\n",
       "      <td>40</td>\n",
       "      <td>United-States</td>\n",
       "      <td>&lt;=50K</td>\n",
       "    </tr>\n",
       "    <tr>\n",
       "      <th>3</th>\n",
       "      <td>53</td>\n",
       "      <td>Private</td>\n",
       "      <td>234721</td>\n",
       "      <td>11th</td>\n",
       "      <td>7</td>\n",
       "      <td>Married-civ-spouse</td>\n",
       "      <td>Handlers-cleaners</td>\n",
       "      <td>Husband</td>\n",
       "      <td>Black</td>\n",
       "      <td>Male</td>\n",
       "      <td>0</td>\n",
       "      <td>0</td>\n",
       "      <td>40</td>\n",
       "      <td>United-States</td>\n",
       "      <td>&lt;=50K</td>\n",
       "    </tr>\n",
       "    <tr>\n",
       "      <th>4</th>\n",
       "      <td>28</td>\n",
       "      <td>Private</td>\n",
       "      <td>338409</td>\n",
       "      <td>Bachelors</td>\n",
       "      <td>13</td>\n",
       "      <td>Married-civ-spouse</td>\n",
       "      <td>Prof-specialty</td>\n",
       "      <td>Wife</td>\n",
       "      <td>Black</td>\n",
       "      <td>Female</td>\n",
       "      <td>0</td>\n",
       "      <td>0</td>\n",
       "      <td>40</td>\n",
       "      <td>Cuba</td>\n",
       "      <td>&lt;=50K</td>\n",
       "    </tr>\n",
       "    <tr>\n",
       "      <th>5</th>\n",
       "      <td>37</td>\n",
       "      <td>Private</td>\n",
       "      <td>284582</td>\n",
       "      <td>Masters</td>\n",
       "      <td>14</td>\n",
       "      <td>Married-civ-spouse</td>\n",
       "      <td>Exec-managerial</td>\n",
       "      <td>Wife</td>\n",
       "      <td>White</td>\n",
       "      <td>Female</td>\n",
       "      <td>0</td>\n",
       "      <td>0</td>\n",
       "      <td>40</td>\n",
       "      <td>United-States</td>\n",
       "      <td>&lt;=50K</td>\n",
       "    </tr>\n",
       "    <tr>\n",
       "      <th>6</th>\n",
       "      <td>49</td>\n",
       "      <td>Private</td>\n",
       "      <td>160187</td>\n",
       "      <td>9th</td>\n",
       "      <td>5</td>\n",
       "      <td>Married-spouse-absent</td>\n",
       "      <td>Other-service</td>\n",
       "      <td>Not-in-family</td>\n",
       "      <td>Black</td>\n",
       "      <td>Female</td>\n",
       "      <td>0</td>\n",
       "      <td>0</td>\n",
       "      <td>16</td>\n",
       "      <td>Jamaica</td>\n",
       "      <td>&lt;=50K</td>\n",
       "    </tr>\n",
       "    <tr>\n",
       "      <th>7</th>\n",
       "      <td>52</td>\n",
       "      <td>Self-emp-not-inc</td>\n",
       "      <td>209642</td>\n",
       "      <td>HS-grad</td>\n",
       "      <td>9</td>\n",
       "      <td>Married-civ-spouse</td>\n",
       "      <td>Exec-managerial</td>\n",
       "      <td>Husband</td>\n",
       "      <td>White</td>\n",
       "      <td>Male</td>\n",
       "      <td>0</td>\n",
       "      <td>0</td>\n",
       "      <td>45</td>\n",
       "      <td>United-States</td>\n",
       "      <td>&gt;50K</td>\n",
       "    </tr>\n",
       "    <tr>\n",
       "      <th>8</th>\n",
       "      <td>31</td>\n",
       "      <td>Private</td>\n",
       "      <td>45781</td>\n",
       "      <td>Masters</td>\n",
       "      <td>14</td>\n",
       "      <td>Never-married</td>\n",
       "      <td>Prof-specialty</td>\n",
       "      <td>Not-in-family</td>\n",
       "      <td>White</td>\n",
       "      <td>Female</td>\n",
       "      <td>14084</td>\n",
       "      <td>0</td>\n",
       "      <td>50</td>\n",
       "      <td>United-States</td>\n",
       "      <td>&gt;50K</td>\n",
       "    </tr>\n",
       "    <tr>\n",
       "      <th>9</th>\n",
       "      <td>42</td>\n",
       "      <td>Private</td>\n",
       "      <td>159449</td>\n",
       "      <td>Bachelors</td>\n",
       "      <td>13</td>\n",
       "      <td>Married-civ-spouse</td>\n",
       "      <td>Exec-managerial</td>\n",
       "      <td>Husband</td>\n",
       "      <td>White</td>\n",
       "      <td>Male</td>\n",
       "      <td>5178</td>\n",
       "      <td>0</td>\n",
       "      <td>40</td>\n",
       "      <td>United-States</td>\n",
       "      <td>&gt;50K</td>\n",
       "    </tr>\n",
       "  </tbody>\n",
       "</table>\n",
       "</div>"
      ],
      "text/plain": [
       "   age          workclass  fnlwgt   education  education_num  \\\n",
       "0   39          State-gov   77516   Bachelors             13   \n",
       "1   50   Self-emp-not-inc   83311   Bachelors             13   \n",
       "2   38            Private  215646     HS-grad              9   \n",
       "3   53            Private  234721        11th              7   \n",
       "4   28            Private  338409   Bachelors             13   \n",
       "5   37            Private  284582     Masters             14   \n",
       "6   49            Private  160187         9th              5   \n",
       "7   52   Self-emp-not-inc  209642     HS-grad              9   \n",
       "8   31            Private   45781     Masters             14   \n",
       "9   42            Private  159449   Bachelors             13   \n",
       "\n",
       "           marital_status          occupation    relationship    race  \\\n",
       "0           Never-married        Adm-clerical   Not-in-family   White   \n",
       "1      Married-civ-spouse     Exec-managerial         Husband   White   \n",
       "2                Divorced   Handlers-cleaners   Not-in-family   White   \n",
       "3      Married-civ-spouse   Handlers-cleaners         Husband   Black   \n",
       "4      Married-civ-spouse      Prof-specialty            Wife   Black   \n",
       "5      Married-civ-spouse     Exec-managerial            Wife   White   \n",
       "6   Married-spouse-absent       Other-service   Not-in-family   Black   \n",
       "7      Married-civ-spouse     Exec-managerial         Husband   White   \n",
       "8           Never-married      Prof-specialty   Not-in-family   White   \n",
       "9      Married-civ-spouse     Exec-managerial         Husband   White   \n",
       "\n",
       "       sex  capital_gain  capital_loss  hours_per_week         country  income  \n",
       "0     Male          2174             0              40   United-States   <=50K  \n",
       "1     Male             0             0              13   United-States   <=50K  \n",
       "2     Male             0             0              40   United-States   <=50K  \n",
       "3     Male             0             0              40   United-States   <=50K  \n",
       "4   Female             0             0              40            Cuba   <=50K  \n",
       "5   Female             0             0              40   United-States   <=50K  \n",
       "6   Female             0             0              16         Jamaica   <=50K  \n",
       "7     Male             0             0              45   United-States    >50K  \n",
       "8   Female         14084             0              50   United-States    >50K  \n",
       "9     Male          5178             0              40   United-States    >50K  "
      ]
     },
     "execution_count": 2,
     "metadata": {},
     "output_type": "execute_result"
    }
   ],
   "source": [
    "#Importation des données \n",
    "df = pd.read_csv('C:/Users/Admin/Documents/Scoring/adult.data', header=None)\n",
    "df.columns = ['age', 'workclass', 'fnlwgt', 'education','education_num','marital_status','occupation','relationship',\n",
    "             'race','sex','capital_gain','capital_loss','hours_per_week','country','income']\n",
    "df.head(10)"
   ]
  },
  {
   "cell_type": "code",
   "execution_count": 3,
   "id": "1e852d09",
   "metadata": {},
   "outputs": [],
   "source": [
    "#Ajout d'une colonne index\n",
    "ind = range(1, len(df) + 1)\n",
    "ind = pd.DataFrame(ind)\n",
    "ind.columns = ['index']\n",
    "ind\n",
    "\n",
    "#On ajoute cette colonne à notre dataset de base\n",
    "df =(pd.concat([ind, df], axis=1))"
   ]
  },
  {
   "cell_type": "markdown",
   "id": "7ec8c75c",
   "metadata": {},
   "source": [
    "## Information sur le dataset"
   ]
  },
  {
   "cell_type": "code",
   "execution_count": 4,
   "id": "d1473236",
   "metadata": {},
   "outputs": [
    {
     "name": "stdout",
     "output_type": "stream",
     "text": [
      "<class 'pandas.core.frame.DataFrame'>\n",
      "RangeIndex: 32561 entries, 0 to 32560\n",
      "Data columns (total 16 columns):\n",
      " #   Column          Non-Null Count  Dtype \n",
      "---  ------          --------------  ----- \n",
      " 0   index           32561 non-null  int64 \n",
      " 1   age             32561 non-null  int64 \n",
      " 2   workclass       32561 non-null  object\n",
      " 3   fnlwgt          32561 non-null  int64 \n",
      " 4   education       32561 non-null  object\n",
      " 5   education_num   32561 non-null  int64 \n",
      " 6   marital_status  32561 non-null  object\n",
      " 7   occupation      32561 non-null  object\n",
      " 8   relationship    32561 non-null  object\n",
      " 9   race            32561 non-null  object\n",
      " 10  sex             32561 non-null  object\n",
      " 11  capital_gain    32561 non-null  int64 \n",
      " 12  capital_loss    32561 non-null  int64 \n",
      " 13  hours_per_week  32561 non-null  int64 \n",
      " 14  country         32561 non-null  object\n",
      " 15  income          32561 non-null  object\n",
      "dtypes: int64(7), object(9)\n",
      "memory usage: 4.0+ MB\n"
     ]
    }
   ],
   "source": [
    "#Info sur le dataset : type des variables et valeurs manqauntes \n",
    "df.info()\n",
    "#On constate qu'il n'y a pas de valeurs manquantes"
   ]
  },
  {
   "cell_type": "code",
   "execution_count": 5,
   "id": "b59b1da3",
   "metadata": {
    "scrolled": true
   },
   "outputs": [
    {
     "data": {
      "text/html": [
       "<div>\n",
       "<style scoped>\n",
       "    .dataframe tbody tr th:only-of-type {\n",
       "        vertical-align: middle;\n",
       "    }\n",
       "\n",
       "    .dataframe tbody tr th {\n",
       "        vertical-align: top;\n",
       "    }\n",
       "\n",
       "    .dataframe thead th {\n",
       "        text-align: right;\n",
       "    }\n",
       "</style>\n",
       "<table border=\"1\" class=\"dataframe\">\n",
       "  <thead>\n",
       "    <tr style=\"text-align: right;\">\n",
       "      <th></th>\n",
       "      <th>index</th>\n",
       "      <th>age</th>\n",
       "      <th>fnlwgt</th>\n",
       "      <th>education_num</th>\n",
       "      <th>capital_gain</th>\n",
       "      <th>capital_loss</th>\n",
       "      <th>hours_per_week</th>\n",
       "    </tr>\n",
       "  </thead>\n",
       "  <tbody>\n",
       "    <tr>\n",
       "      <th>count</th>\n",
       "      <td>32561.000000</td>\n",
       "      <td>32561.000000</td>\n",
       "      <td>3.256100e+04</td>\n",
       "      <td>32561.000000</td>\n",
       "      <td>32561.000000</td>\n",
       "      <td>32561.000000</td>\n",
       "      <td>32561.000000</td>\n",
       "    </tr>\n",
       "    <tr>\n",
       "      <th>mean</th>\n",
       "      <td>16281.000000</td>\n",
       "      <td>38.581647</td>\n",
       "      <td>1.897784e+05</td>\n",
       "      <td>10.080679</td>\n",
       "      <td>1077.648844</td>\n",
       "      <td>87.303830</td>\n",
       "      <td>40.437456</td>\n",
       "    </tr>\n",
       "    <tr>\n",
       "      <th>std</th>\n",
       "      <td>9399.695394</td>\n",
       "      <td>13.640433</td>\n",
       "      <td>1.055500e+05</td>\n",
       "      <td>2.572720</td>\n",
       "      <td>7385.292085</td>\n",
       "      <td>402.960219</td>\n",
       "      <td>12.347429</td>\n",
       "    </tr>\n",
       "    <tr>\n",
       "      <th>min</th>\n",
       "      <td>1.000000</td>\n",
       "      <td>17.000000</td>\n",
       "      <td>1.228500e+04</td>\n",
       "      <td>1.000000</td>\n",
       "      <td>0.000000</td>\n",
       "      <td>0.000000</td>\n",
       "      <td>1.000000</td>\n",
       "    </tr>\n",
       "    <tr>\n",
       "      <th>25%</th>\n",
       "      <td>8141.000000</td>\n",
       "      <td>28.000000</td>\n",
       "      <td>1.178270e+05</td>\n",
       "      <td>9.000000</td>\n",
       "      <td>0.000000</td>\n",
       "      <td>0.000000</td>\n",
       "      <td>40.000000</td>\n",
       "    </tr>\n",
       "    <tr>\n",
       "      <th>50%</th>\n",
       "      <td>16281.000000</td>\n",
       "      <td>37.000000</td>\n",
       "      <td>1.783560e+05</td>\n",
       "      <td>10.000000</td>\n",
       "      <td>0.000000</td>\n",
       "      <td>0.000000</td>\n",
       "      <td>40.000000</td>\n",
       "    </tr>\n",
       "    <tr>\n",
       "      <th>75%</th>\n",
       "      <td>24421.000000</td>\n",
       "      <td>48.000000</td>\n",
       "      <td>2.370510e+05</td>\n",
       "      <td>12.000000</td>\n",
       "      <td>0.000000</td>\n",
       "      <td>0.000000</td>\n",
       "      <td>45.000000</td>\n",
       "    </tr>\n",
       "    <tr>\n",
       "      <th>max</th>\n",
       "      <td>32561.000000</td>\n",
       "      <td>90.000000</td>\n",
       "      <td>1.484705e+06</td>\n",
       "      <td>16.000000</td>\n",
       "      <td>99999.000000</td>\n",
       "      <td>4356.000000</td>\n",
       "      <td>99.000000</td>\n",
       "    </tr>\n",
       "  </tbody>\n",
       "</table>\n",
       "</div>"
      ],
      "text/plain": [
       "              index           age        fnlwgt  education_num  capital_gain  \\\n",
       "count  32561.000000  32561.000000  3.256100e+04   32561.000000  32561.000000   \n",
       "mean   16281.000000     38.581647  1.897784e+05      10.080679   1077.648844   \n",
       "std     9399.695394     13.640433  1.055500e+05       2.572720   7385.292085   \n",
       "min        1.000000     17.000000  1.228500e+04       1.000000      0.000000   \n",
       "25%     8141.000000     28.000000  1.178270e+05       9.000000      0.000000   \n",
       "50%    16281.000000     37.000000  1.783560e+05      10.000000      0.000000   \n",
       "75%    24421.000000     48.000000  2.370510e+05      12.000000      0.000000   \n",
       "max    32561.000000     90.000000  1.484705e+06      16.000000  99999.000000   \n",
       "\n",
       "       capital_loss  hours_per_week  \n",
       "count  32561.000000    32561.000000  \n",
       "mean      87.303830       40.437456  \n",
       "std      402.960219       12.347429  \n",
       "min        0.000000        1.000000  \n",
       "25%        0.000000       40.000000  \n",
       "50%        0.000000       40.000000  \n",
       "75%        0.000000       45.000000  \n",
       "max     4356.000000       99.000000  "
      ]
     },
     "execution_count": 5,
     "metadata": {},
     "output_type": "execute_result"
    }
   ],
   "source": [
    "#Description des variables quantitatives du dataset\n",
    "df.describe()"
   ]
  },
  {
   "cell_type": "markdown",
   "id": "8105e369",
   "metadata": {},
   "source": [
    "## Statistiques descriptives"
   ]
  },
  {
   "cell_type": "code",
   "execution_count": 6,
   "id": "963b6f67",
   "metadata": {},
   "outputs": [
    {
     "data": {
      "text/html": [
       "<div>\n",
       "<style scoped>\n",
       "    .dataframe tbody tr th:only-of-type {\n",
       "        vertical-align: middle;\n",
       "    }\n",
       "\n",
       "    .dataframe tbody tr th {\n",
       "        vertical-align: top;\n",
       "    }\n",
       "\n",
       "    .dataframe thead th {\n",
       "        text-align: right;\n",
       "    }\n",
       "</style>\n",
       "<table border=\"1\" class=\"dataframe\">\n",
       "  <thead>\n",
       "    <tr style=\"text-align: right;\">\n",
       "      <th></th>\n",
       "      <th>count</th>\n",
       "      <th>mean</th>\n",
       "      <th>std</th>\n",
       "      <th>min</th>\n",
       "      <th>25%</th>\n",
       "      <th>50%</th>\n",
       "      <th>75%</th>\n",
       "      <th>max</th>\n",
       "    </tr>\n",
       "    <tr>\n",
       "      <th>education</th>\n",
       "      <th></th>\n",
       "      <th></th>\n",
       "      <th></th>\n",
       "      <th></th>\n",
       "      <th></th>\n",
       "      <th></th>\n",
       "      <th></th>\n",
       "      <th></th>\n",
       "    </tr>\n",
       "  </thead>\n",
       "  <tbody>\n",
       "    <tr>\n",
       "      <th>10th</th>\n",
       "      <td>933.0</td>\n",
       "      <td>6.0</td>\n",
       "      <td>0.0</td>\n",
       "      <td>6.0</td>\n",
       "      <td>6.0</td>\n",
       "      <td>6.0</td>\n",
       "      <td>6.0</td>\n",
       "      <td>6.0</td>\n",
       "    </tr>\n",
       "    <tr>\n",
       "      <th>11th</th>\n",
       "      <td>1175.0</td>\n",
       "      <td>7.0</td>\n",
       "      <td>0.0</td>\n",
       "      <td>7.0</td>\n",
       "      <td>7.0</td>\n",
       "      <td>7.0</td>\n",
       "      <td>7.0</td>\n",
       "      <td>7.0</td>\n",
       "    </tr>\n",
       "    <tr>\n",
       "      <th>12th</th>\n",
       "      <td>433.0</td>\n",
       "      <td>8.0</td>\n",
       "      <td>0.0</td>\n",
       "      <td>8.0</td>\n",
       "      <td>8.0</td>\n",
       "      <td>8.0</td>\n",
       "      <td>8.0</td>\n",
       "      <td>8.0</td>\n",
       "    </tr>\n",
       "    <tr>\n",
       "      <th>1st-4th</th>\n",
       "      <td>168.0</td>\n",
       "      <td>2.0</td>\n",
       "      <td>0.0</td>\n",
       "      <td>2.0</td>\n",
       "      <td>2.0</td>\n",
       "      <td>2.0</td>\n",
       "      <td>2.0</td>\n",
       "      <td>2.0</td>\n",
       "    </tr>\n",
       "    <tr>\n",
       "      <th>5th-6th</th>\n",
       "      <td>333.0</td>\n",
       "      <td>3.0</td>\n",
       "      <td>0.0</td>\n",
       "      <td>3.0</td>\n",
       "      <td>3.0</td>\n",
       "      <td>3.0</td>\n",
       "      <td>3.0</td>\n",
       "      <td>3.0</td>\n",
       "    </tr>\n",
       "    <tr>\n",
       "      <th>7th-8th</th>\n",
       "      <td>646.0</td>\n",
       "      <td>4.0</td>\n",
       "      <td>0.0</td>\n",
       "      <td>4.0</td>\n",
       "      <td>4.0</td>\n",
       "      <td>4.0</td>\n",
       "      <td>4.0</td>\n",
       "      <td>4.0</td>\n",
       "    </tr>\n",
       "    <tr>\n",
       "      <th>9th</th>\n",
       "      <td>514.0</td>\n",
       "      <td>5.0</td>\n",
       "      <td>0.0</td>\n",
       "      <td>5.0</td>\n",
       "      <td>5.0</td>\n",
       "      <td>5.0</td>\n",
       "      <td>5.0</td>\n",
       "      <td>5.0</td>\n",
       "    </tr>\n",
       "    <tr>\n",
       "      <th>Assoc-acdm</th>\n",
       "      <td>1067.0</td>\n",
       "      <td>12.0</td>\n",
       "      <td>0.0</td>\n",
       "      <td>12.0</td>\n",
       "      <td>12.0</td>\n",
       "      <td>12.0</td>\n",
       "      <td>12.0</td>\n",
       "      <td>12.0</td>\n",
       "    </tr>\n",
       "    <tr>\n",
       "      <th>Assoc-voc</th>\n",
       "      <td>1382.0</td>\n",
       "      <td>11.0</td>\n",
       "      <td>0.0</td>\n",
       "      <td>11.0</td>\n",
       "      <td>11.0</td>\n",
       "      <td>11.0</td>\n",
       "      <td>11.0</td>\n",
       "      <td>11.0</td>\n",
       "    </tr>\n",
       "    <tr>\n",
       "      <th>Bachelors</th>\n",
       "      <td>5355.0</td>\n",
       "      <td>13.0</td>\n",
       "      <td>0.0</td>\n",
       "      <td>13.0</td>\n",
       "      <td>13.0</td>\n",
       "      <td>13.0</td>\n",
       "      <td>13.0</td>\n",
       "      <td>13.0</td>\n",
       "    </tr>\n",
       "    <tr>\n",
       "      <th>Doctorate</th>\n",
       "      <td>413.0</td>\n",
       "      <td>16.0</td>\n",
       "      <td>0.0</td>\n",
       "      <td>16.0</td>\n",
       "      <td>16.0</td>\n",
       "      <td>16.0</td>\n",
       "      <td>16.0</td>\n",
       "      <td>16.0</td>\n",
       "    </tr>\n",
       "    <tr>\n",
       "      <th>HS-grad</th>\n",
       "      <td>10501.0</td>\n",
       "      <td>9.0</td>\n",
       "      <td>0.0</td>\n",
       "      <td>9.0</td>\n",
       "      <td>9.0</td>\n",
       "      <td>9.0</td>\n",
       "      <td>9.0</td>\n",
       "      <td>9.0</td>\n",
       "    </tr>\n",
       "    <tr>\n",
       "      <th>Masters</th>\n",
       "      <td>1723.0</td>\n",
       "      <td>14.0</td>\n",
       "      <td>0.0</td>\n",
       "      <td>14.0</td>\n",
       "      <td>14.0</td>\n",
       "      <td>14.0</td>\n",
       "      <td>14.0</td>\n",
       "      <td>14.0</td>\n",
       "    </tr>\n",
       "    <tr>\n",
       "      <th>Preschool</th>\n",
       "      <td>51.0</td>\n",
       "      <td>1.0</td>\n",
       "      <td>0.0</td>\n",
       "      <td>1.0</td>\n",
       "      <td>1.0</td>\n",
       "      <td>1.0</td>\n",
       "      <td>1.0</td>\n",
       "      <td>1.0</td>\n",
       "    </tr>\n",
       "    <tr>\n",
       "      <th>Prof-school</th>\n",
       "      <td>576.0</td>\n",
       "      <td>15.0</td>\n",
       "      <td>0.0</td>\n",
       "      <td>15.0</td>\n",
       "      <td>15.0</td>\n",
       "      <td>15.0</td>\n",
       "      <td>15.0</td>\n",
       "      <td>15.0</td>\n",
       "    </tr>\n",
       "    <tr>\n",
       "      <th>Some-college</th>\n",
       "      <td>7291.0</td>\n",
       "      <td>10.0</td>\n",
       "      <td>0.0</td>\n",
       "      <td>10.0</td>\n",
       "      <td>10.0</td>\n",
       "      <td>10.0</td>\n",
       "      <td>10.0</td>\n",
       "      <td>10.0</td>\n",
       "    </tr>\n",
       "  </tbody>\n",
       "</table>\n",
       "</div>"
      ],
      "text/plain": [
       "                 count  mean  std   min   25%   50%   75%   max\n",
       "education                                                      \n",
       " 10th            933.0   6.0  0.0   6.0   6.0   6.0   6.0   6.0\n",
       " 11th           1175.0   7.0  0.0   7.0   7.0   7.0   7.0   7.0\n",
       " 12th            433.0   8.0  0.0   8.0   8.0   8.0   8.0   8.0\n",
       " 1st-4th         168.0   2.0  0.0   2.0   2.0   2.0   2.0   2.0\n",
       " 5th-6th         333.0   3.0  0.0   3.0   3.0   3.0   3.0   3.0\n",
       " 7th-8th         646.0   4.0  0.0   4.0   4.0   4.0   4.0   4.0\n",
       " 9th             514.0   5.0  0.0   5.0   5.0   5.0   5.0   5.0\n",
       " Assoc-acdm     1067.0  12.0  0.0  12.0  12.0  12.0  12.0  12.0\n",
       " Assoc-voc      1382.0  11.0  0.0  11.0  11.0  11.0  11.0  11.0\n",
       " Bachelors      5355.0  13.0  0.0  13.0  13.0  13.0  13.0  13.0\n",
       " Doctorate       413.0  16.0  0.0  16.0  16.0  16.0  16.0  16.0\n",
       " HS-grad       10501.0   9.0  0.0   9.0   9.0   9.0   9.0   9.0\n",
       " Masters        1723.0  14.0  0.0  14.0  14.0  14.0  14.0  14.0\n",
       " Preschool        51.0   1.0  0.0   1.0   1.0   1.0   1.0   1.0\n",
       " Prof-school     576.0  15.0  0.0  15.0  15.0  15.0  15.0  15.0\n",
       " Some-college   7291.0  10.0  0.0  10.0  10.0  10.0  10.0  10.0"
      ]
     },
     "execution_count": 6,
     "metadata": {},
     "output_type": "execute_result"
    }
   ],
   "source": [
    "#Répartition pour la variable 'education' qui correspond au diplôme\n",
    "df.groupby('education').education_num.describe()"
   ]
  },
  {
   "cell_type": "markdown",
   "id": "07435b6e",
   "metadata": {},
   "source": [
    "## Répartition pour les variables quantitatives âge et hours_per_week"
   ]
  },
  {
   "cell_type": "code",
   "execution_count": 7,
   "id": "4c323f38",
   "metadata": {
    "scrolled": true
   },
   "outputs": [
    {
     "name": "stdout",
     "output_type": "stream",
     "text": [
      "    age  volume\n",
      "17  395    1.21\n",
      "18  550    1.69\n",
      "19  712    2.19\n",
      "20  753    2.31\n",
      "21  720    2.21\n",
      "22  765    2.35\n",
      "23  877    2.69\n",
      "24  798    2.45\n",
      "25  841    2.58\n",
      "26  785    2.41\n",
      "27  835    2.56\n",
      "28  867    2.66\n",
      "29  813    2.50\n",
      "30  861    2.64\n",
      "31  888    2.73\n",
      "32  828    2.54\n",
      "33  875    2.69\n",
      "34  886    2.72\n",
      "35  876    2.69\n",
      "36  898    2.76\n",
      "37  858    2.64\n",
      "38  827    2.54\n",
      "39  816    2.51\n",
      "40  794    2.44\n",
      "41  808    2.48\n",
      "42  780    2.40\n",
      "43  770    2.36\n",
      "44  724    2.22\n",
      "45  734    2.25\n",
      "46  737    2.26\n",
      "47  708    2.17\n",
      "48  543    1.67\n",
      "49  577    1.77\n",
      "50  602    1.85\n",
      "51  595    1.83\n",
      "52  478    1.47\n",
      "53  464    1.43\n",
      "54  415    1.27\n",
      "55  419    1.29\n",
      "56  366    1.12\n",
      "57  358    1.10\n",
      "58  366    1.12\n",
      "59  355    1.09\n",
      "60  312    0.96\n",
      "61  300    0.92\n",
      "62  258    0.79\n",
      "63  230    0.71\n",
      "64  208    0.64\n",
      "65  178    0.55\n",
      "66  150    0.46\n",
      "67  151    0.46\n",
      "68  120    0.37\n",
      "69  108    0.33\n",
      "70   89    0.27\n",
      "71   72    0.22\n",
      "72   67    0.21\n",
      "73   64    0.20\n",
      "74   51    0.16\n",
      "75   45    0.14\n",
      "76   46    0.14\n",
      "77   29    0.09\n",
      "78   23    0.07\n",
      "79   22    0.07\n",
      "80   22    0.07\n",
      "81   20    0.06\n",
      "82   12    0.04\n",
      "83    6    0.02\n",
      "84   10    0.03\n",
      "85    3    0.01\n",
      "86    1    0.00\n",
      "87    1    0.00\n",
      "88    3    0.01\n",
      "90   43    0.13\n"
     ]
    }
   ],
   "source": [
    "#Réparition de l'âge\n",
    "rep_age = pd.DataFrame(df['age'].value_counts())\n",
    "rep_age = rep_age.sort_index()\n",
    "rep_age['volume'] = round(100*(rep_age.age/ rep_age.age.sum()),2)\n",
    "print(rep_age.to_string())"
   ]
  },
  {
   "cell_type": "markdown",
   "id": "789e8d0a",
   "metadata": {},
   "source": [
    "Observons le profil des personnes de moins de 17 ans"
   ]
  },
  {
   "cell_type": "code",
   "execution_count": 8,
   "id": "870a82f9",
   "metadata": {
    "scrolled": true
   },
   "outputs": [
    {
     "name": "stdout",
     "output_type": "stream",
     "text": [
      "income   <=50K   >50K\n",
      "age                  \n",
      "17         395      0\n",
      "18         550      0\n",
      "19         710      2\n",
      "20         753      0\n",
      "21         717      3\n",
      "22         752     13\n",
      "23         865     12\n",
      "24         767     31\n",
      "25         788     53\n",
      "26         722     63\n",
      "27         754     81\n",
      "28         748    119\n",
      "29         679    134\n",
      "30         690    171\n",
      "31         705    183\n",
      "32         639    189\n",
      "33         684    191\n",
      "34         643    243\n",
      "35         659    217\n",
      "36         635    263\n",
      "37         566    292\n",
      "38         545    282\n",
      "39         538    278\n",
      "40         526    268\n",
      "41         529    279\n",
      "42         510    270\n",
      "43         497    273\n",
      "44         443    281\n",
      "45         446    288\n",
      "46         445    292\n",
      "47         420    288\n",
      "48         326    217\n",
      "49         371    206\n",
      "50         341    261\n",
      "51         353    242\n",
      "52         286    192\n",
      "53         275    189\n",
      "54         242    173\n",
      "55         273    146\n",
      "56         248    118\n",
      "57         227    131\n",
      "58         244    122\n",
      "59         222    133\n",
      "60         211    101\n",
      "61         204     96\n",
      "62         191     67\n",
      "63         171     59\n",
      "64         155     53\n",
      "65         135     43\n",
      "66         115     35\n",
      "67         114     37\n",
      "68          93     27\n",
      "69          87     21\n",
      "70          70     19\n",
      "71          56     16\n",
      "72          58      9\n",
      "73          54     10\n",
      "74          39     12\n",
      "75          38      7\n",
      "76          41      5\n",
      "77          24      5\n",
      "78          18      5\n",
      "79          13      9\n",
      "80          20      2\n",
      "81          17      3\n",
      "82          12      0\n",
      "83           4      2\n",
      "84           9      1\n",
      "85           3      0\n",
      "86           1      0\n",
      "87           1      0\n",
      "88           3      0\n",
      "90          35      8\n"
     ]
    }
   ],
   "source": [
    "contTable = pd.crosstab(df['age'],df['income'])\n",
    "print(contTable.to_string())"
   ]
  },
  {
   "cell_type": "markdown",
   "id": "be595d72",
   "metadata": {},
   "source": [
    "Rien de déconnant avec l'âge des personnes ayant 17 ans on va donc les garder pour notre étude, aucun d'entre eux ne gagne plus de 50K"
   ]
  },
  {
   "cell_type": "code",
   "execution_count": 9,
   "id": "4a46c2b3",
   "metadata": {},
   "outputs": [
    {
     "name": "stdout",
     "output_type": "stream",
     "text": [
      "les outliers sont les âges suivants :  [90, 80, 81, 90, 88, 90, 90, 80, 90, 81, 82, 81, 80, 83, 90, 90, 81, 90, 90, 80, 90, 90, 84, 90, 80, 90, 81, 83, 84, 81, 85, 82, 80, 90, 90, 90, 84, 80, 90, 90, 84, 90, 90, 90, 90, 82, 81, 90, 84, 81, 82, 81, 80, 90, 80, 84, 82, 90, 84, 90, 83, 81, 80, 80, 80, 90, 90, 80, 90, 90, 81, 83, 82, 90, 90, 81, 80, 80, 90, 80, 82, 85, 80, 90, 81, 80, 81, 82, 88, 90, 82, 88, 84, 83, 86, 90, 90, 82, 83, 81, 90, 80, 81, 84, 84, 90, 80, 81, 81, 81, 90, 87, 90, 80, 80, 82, 90, 90, 85, 82, 81]\n"
     ]
    }
   ],
   "source": [
    "# Detection des valeurs aberrantes avec la méthode du Z score\n",
    "mean = np.mean(df.age)\n",
    "std = np.std(df.age)\n",
    "\n",
    "threshold = 3\n",
    "outlier = []\n",
    "for i in df.age:\n",
    "    z = (i-mean)/std\n",
    "    if z > threshold:\n",
    "        outlier.append(i)\n",
    "print('les outliers sont les âges suivants : ', outlier)\n"
   ]
  },
  {
   "cell_type": "markdown",
   "id": "d6941bf2",
   "metadata": {},
   "source": [
    "Pour pallier au problème des valeurs extrême on va créer des classes d'âge, ainsi l'effet des valeurs extrême sera diminué et on évite la perte d'information"
   ]
  },
  {
   "cell_type": "code",
   "execution_count": 10,
   "id": "614533fb",
   "metadata": {
    "scrolled": true
   },
   "outputs": [
    {
     "name": "stdout",
     "output_type": "stream",
     "text": [
      "    hours_per_week  volume\n",
      "1               20    0.06\n",
      "2               32    0.10\n",
      "3               39    0.12\n",
      "4               54    0.17\n",
      "5               60    0.18\n",
      "6               64    0.20\n",
      "7               26    0.08\n",
      "8              145    0.45\n",
      "9               18    0.06\n",
      "10             278    0.85\n",
      "11              11    0.03\n",
      "12             173    0.53\n",
      "13              23    0.07\n",
      "14              34    0.10\n",
      "15             404    1.24\n",
      "16             205    0.63\n",
      "17              29    0.09\n",
      "18              75    0.23\n",
      "19              14    0.04\n",
      "20            1224    3.76\n",
      "21              24    0.07\n",
      "22              44    0.14\n",
      "23              21    0.06\n",
      "24             252    0.77\n",
      "25             674    2.07\n",
      "26              30    0.09\n",
      "27              30    0.09\n",
      "28              86    0.26\n",
      "29               7    0.02\n",
      "30            1149    3.53\n",
      "31               5    0.02\n",
      "32             266    0.82\n",
      "33              39    0.12\n",
      "34              28    0.09\n",
      "35            1297    3.98\n",
      "36             220    0.68\n",
      "37             149    0.46\n",
      "38             476    1.46\n",
      "39              38    0.12\n",
      "40           15217   46.73\n",
      "41              36    0.11\n",
      "42             219    0.67\n",
      "43             151    0.46\n",
      "44             212    0.65\n",
      "45            1824    5.60\n",
      "46              82    0.25\n",
      "47              49    0.15\n",
      "48             517    1.59\n",
      "49              29    0.09\n",
      "50            2819    8.66\n",
      "51              13    0.04\n",
      "52             138    0.42\n",
      "53              25    0.08\n",
      "54              41    0.13\n",
      "55             694    2.13\n",
      "56              97    0.30\n",
      "57              17    0.05\n",
      "58              28    0.09\n",
      "59               5    0.02\n",
      "60            1475    4.53\n",
      "61               2    0.01\n",
      "62              18    0.06\n",
      "63              10    0.03\n",
      "64              14    0.04\n",
      "65             244    0.75\n",
      "66              17    0.05\n",
      "67               4    0.01\n",
      "68              12    0.04\n",
      "70             291    0.89\n",
      "72              71    0.22\n",
      "73               2    0.01\n",
      "74               1    0.00\n",
      "75              66    0.20\n",
      "76               3    0.01\n",
      "77               6    0.02\n",
      "78               8    0.02\n",
      "80             133    0.41\n",
      "81               3    0.01\n",
      "82               1    0.00\n",
      "84              45    0.14\n",
      "85              13    0.04\n",
      "86               2    0.01\n",
      "87               1    0.00\n",
      "88               2    0.01\n",
      "89               2    0.01\n",
      "90              29    0.09\n",
      "91               3    0.01\n",
      "92               1    0.00\n",
      "94               1    0.00\n",
      "95               2    0.01\n",
      "96               5    0.02\n",
      "97               2    0.01\n",
      "98              11    0.03\n",
      "99              85    0.26\n"
     ]
    }
   ],
   "source": [
    "rep_hours = pd.DataFrame(df['hours_per_week'].value_counts())\n",
    "rep_hours = rep_hours.sort_index()\n",
    "rep_hours['volume'] = round(100*(rep_hours.hours_per_week/ rep_hours.hours_per_week.sum()),2)\n",
    "print(rep_hours.to_string())"
   ]
  },
  {
   "cell_type": "markdown",
   "id": "774d9fcc",
   "metadata": {},
   "source": [
    "Observons le profil des personnes qui travaillent moins de 15h par semaine et ceux qui travaillent plus de 70h"
   ]
  },
  {
   "cell_type": "code",
   "execution_count": 11,
   "id": "4e852330",
   "metadata": {
    "scrolled": true
   },
   "outputs": [
    {
     "name": "stdout",
     "output_type": "stream",
     "text": [
      "income           <=50K   >50K\n",
      "hours_per_week               \n",
      "1                   18      2\n",
      "2                   24      8\n",
      "3                   38      1\n",
      "4                   51      3\n",
      "5                   53      7\n",
      "6                   56      8\n",
      "7                   22      4\n",
      "8                  134     11\n",
      "9                   17      1\n",
      "10                 258     20\n",
      "11                  11      0\n",
      "12                 161     12\n",
      "13                  21      2\n",
      "14                  32      2\n",
      "15                 389     15\n",
      "16                 192     13\n",
      "17                  28      1\n",
      "18                  68      7\n",
      "19                  14      0\n",
      "20                1146     78\n",
      "21                  22      2\n",
      "22                  40      4\n",
      "23                  21      0\n",
      "24                 229     23\n",
      "25                 639     35\n",
      "26                  26      4\n",
      "27                  29      1\n",
      "28                  81      5\n",
      "29                   6      1\n",
      "30                1066     83\n",
      "31                   5      0\n",
      "32                 238     28\n",
      "33                  35      4\n",
      "34                  26      2\n",
      "35                1102    195\n",
      "36                 177     43\n",
      "37                 129     20\n",
      "38                 390     86\n",
      "39                  31      7\n",
      "40               11970   3247\n",
      "41                  29      7\n",
      "42                 149     70\n",
      "43                 112     39\n",
      "44                 138     74\n",
      "45                1139    685\n",
      "46                  54     28\n",
      "47                  34     15\n",
      "48                 365    152\n",
      "49                  23      6\n",
      "50                1543   1276\n",
      "51                  10      3\n",
      "52                  90     48\n",
      "53                  19      6\n",
      "54                  27     14\n",
      "55                 371    323\n",
      "56                  57     40\n",
      "57                  10      7\n",
      "58                  19      9\n",
      "59                   3      2\n",
      "60                 827    648\n",
      "61                   0      2\n",
      "62                  14      4\n",
      "63                   7      3\n",
      "64                   9      5\n",
      "65                 140    104\n",
      "66                  15      2\n",
      "67                   1      3\n",
      "68                   7      5\n",
      "70                 185    106\n",
      "72                  46     25\n",
      "73                   1      1\n",
      "74                   1      0\n",
      "75                  46     20\n",
      "76                   1      2\n",
      "77                   6      0\n",
      "78                   6      2\n",
      "80                  76     57\n",
      "81                   3      0\n",
      "82                   1      0\n",
      "84                  28     17\n",
      "85                   9      4\n",
      "86                   2      0\n",
      "87                   1      0\n",
      "88                   2      0\n",
      "89                   1      1\n",
      "90                  19     10\n",
      "91                   3      0\n",
      "92                   1      0\n",
      "94                   1      0\n",
      "95                   1      1\n",
      "96                   4      1\n",
      "97                   1      1\n",
      "98                   8      3\n",
      "99                  60     25\n"
     ]
    }
   ],
   "source": [
    "contTable = pd.crosstab(df['hours_per_week'],df['income'])\n",
    "print(contTable.to_string())"
   ]
  },
  {
   "cell_type": "markdown",
   "id": "2f33c2de",
   "metadata": {},
   "source": [
    "Beaucoup de profil différent, des gens qui travaillent 99 heures par semaine pour gagner moins de 50K et des personnes qui travaillent 1 heure par semaine pour plus de 50K uniquement avec un diplôme de fin de lycée.\n",
    "\n",
    "Pour pallier à ce problème de valeur aberrante on va créer des classes "
   ]
  },
  {
   "cell_type": "markdown",
   "id": "47583af0",
   "metadata": {},
   "source": [
    "## Variables capital_gain et capital_loss"
   ]
  },
  {
   "cell_type": "code",
   "execution_count": 12,
   "id": "69f6d9cf",
   "metadata": {
    "scrolled": true
   },
   "outputs": [
    {
     "name": "stdout",
     "output_type": "stream",
     "text": [
      "      capital_loss  volume\n",
      "0            31042   95.33\n",
      "155              1    0.00\n",
      "213              4    0.01\n",
      "323              3    0.01\n",
      "419              3    0.01\n",
      "625             12    0.04\n",
      "653              3    0.01\n",
      "810              2    0.01\n",
      "880              6    0.02\n",
      "974              2    0.01\n",
      "1092             7    0.02\n",
      "1138             2    0.01\n",
      "1258             4    0.01\n",
      "1340             7    0.02\n",
      "1380             7    0.02\n",
      "1408            21    0.06\n",
      "1411             1    0.00\n",
      "1485            51    0.16\n",
      "1504            18    0.06\n",
      "1539             1    0.00\n",
      "1564            25    0.08\n",
      "1573             6    0.02\n",
      "1579            20    0.06\n",
      "1590            40    0.12\n",
      "1594             8    0.02\n",
      "1602            47    0.14\n",
      "1617             9    0.03\n",
      "1628            15    0.05\n",
      "1648             2    0.01\n",
      "1651             9    0.03\n",
      "1668             4    0.01\n",
      "1669            24    0.07\n",
      "1672            34    0.10\n",
      "1719            22    0.07\n",
      "1721            18    0.06\n",
      "1726             4    0.01\n",
      "1735             2    0.01\n",
      "1740            42    0.13\n",
      "1741            24    0.07\n",
      "1755             2    0.01\n",
      "1762            14    0.04\n",
      "1816             2    0.01\n",
      "1825             4    0.01\n",
      "1844             1    0.00\n",
      "1848            51    0.16\n",
      "1876            39    0.12\n",
      "1887           159    0.49\n",
      "1902           202    0.62\n",
      "1944             1    0.00\n",
      "1974            18    0.06\n",
      "1977           168    0.52\n",
      "1980            23    0.07\n",
      "2001            24    0.07\n",
      "2002            21    0.06\n",
      "2042             9    0.03\n",
      "2051            21    0.06\n",
      "2057             6    0.02\n",
      "2080             1    0.00\n",
      "2129             3    0.01\n",
      "2149             2    0.01\n",
      "2163             1    0.00\n",
      "2174             7    0.02\n",
      "2179            15    0.05\n",
      "2201             1    0.00\n",
      "2205             9    0.03\n",
      "2206             6    0.02\n",
      "2231             3    0.01\n",
      "2238             2    0.01\n",
      "2246             6    0.02\n",
      "2258            25    0.08\n",
      "2267             3    0.01\n",
      "2282             1    0.00\n",
      "2339            17    0.05\n",
      "2352             2    0.01\n",
      "2377            20    0.06\n",
      "2392             9    0.03\n",
      "2415            49    0.15\n",
      "2444            12    0.04\n",
      "2457             3    0.01\n",
      "2467             1    0.00\n",
      "2472             1    0.00\n",
      "2489             1    0.00\n",
      "2547             4    0.01\n",
      "2559            12    0.04\n",
      "2603             5    0.02\n",
      "2754             2    0.01\n",
      "2824            10    0.03\n",
      "3004             2    0.01\n",
      "3683             2    0.01\n",
      "3770             2    0.01\n",
      "3900             2    0.01\n",
      "4356             3    0.01\n"
     ]
    }
   ],
   "source": [
    "rep_loss = pd.DataFrame(df['capital_loss'].value_counts())\n",
    "rep_loss = rep_loss.sort_index()\n",
    "rep_loss['volume'] = round(100*(rep_loss.capital_loss/ rep_loss.capital_loss.sum()),2)\n",
    "print(rep_loss.to_string())"
   ]
  },
  {
   "cell_type": "code",
   "execution_count": 13,
   "id": "4aa3ddf1",
   "metadata": {},
   "outputs": [
    {
     "name": "stdout",
     "output_type": "stream",
     "text": [
      "       capital_gain  volume\n",
      "0             29849   91.67\n",
      "114               6    0.02\n",
      "401               2    0.01\n",
      "594              34    0.10\n",
      "914               8    0.02\n",
      "991               5    0.02\n",
      "1055             25    0.08\n",
      "1086              4    0.01\n",
      "1111              1    0.00\n",
      "1151              8    0.02\n",
      "1173              3    0.01\n",
      "1409              7    0.02\n",
      "1424              3    0.01\n",
      "1455              1    0.00\n",
      "1471              7    0.02\n",
      "1506             15    0.05\n",
      "1639              1    0.00\n",
      "1797              7    0.02\n",
      "1831              7    0.02\n",
      "1848              6    0.02\n",
      "2009              3    0.01\n",
      "2036              4    0.01\n",
      "2050              5    0.02\n",
      "2062              2    0.01\n",
      "2105              9    0.03\n",
      "2174             48    0.15\n",
      "2176             23    0.07\n",
      "2202             16    0.05\n",
      "2228              5    0.02\n",
      "2290              5    0.02\n",
      "2329              6    0.02\n",
      "2346              6    0.02\n",
      "2354             11    0.03\n",
      "2387              1    0.00\n",
      "2407             19    0.06\n",
      "2414              8    0.02\n",
      "2463             11    0.03\n",
      "2538              1    0.00\n",
      "2580             12    0.04\n",
      "2597             20    0.06\n",
      "2635             11    0.03\n",
      "2653              5    0.02\n",
      "2829             31    0.10\n",
      "2885             24    0.07\n",
      "2907             11    0.03\n",
      "2936              3    0.01\n",
      "2961              3    0.01\n",
      "2964              9    0.03\n",
      "2977              8    0.02\n",
      "2993              2    0.01\n",
      "3103             97    0.30\n",
      "3137             37    0.11\n",
      "3273              6    0.02\n",
      "3325             53    0.16\n",
      "3411             24    0.07\n",
      "3418              5    0.02\n",
      "3432              4    0.01\n",
      "3456              2    0.01\n",
      "3464             23    0.07\n",
      "3471              8    0.02\n",
      "3674             14    0.04\n",
      "3781             12    0.04\n",
      "3818              7    0.02\n",
      "3887              6    0.02\n",
      "3908             32    0.10\n",
      "3942             14    0.04\n",
      "4064             42    0.13\n",
      "4101             20    0.06\n",
      "4386             70    0.21\n",
      "4416             12    0.04\n",
      "4508             12    0.04\n",
      "4650             41    0.13\n",
      "4687              3    0.01\n",
      "4787             23    0.07\n",
      "4865             17    0.05\n",
      "4931              1    0.00\n",
      "4934              7    0.02\n",
      "5013             69    0.21\n",
      "5060              1    0.00\n",
      "5178             97    0.30\n",
      "5455             11    0.03\n",
      "5556              5    0.02\n",
      "5721              3    0.01\n",
      "6097              1    0.00\n",
      "6360              3    0.01\n",
      "6418              9    0.03\n",
      "6497             11    0.03\n",
      "6514              5    0.02\n",
      "6723              2    0.01\n",
      "6767              5    0.02\n",
      "6849             27    0.08\n",
      "7298            246    0.76\n",
      "7430              9    0.03\n",
      "7443              5    0.02\n",
      "7688            284    0.87\n",
      "7896              3    0.01\n",
      "7978              1    0.00\n",
      "8614             55    0.17\n",
      "9386             22    0.07\n",
      "9562              4    0.01\n",
      "10520            43    0.13\n",
      "10566             6    0.02\n",
      "10605            12    0.04\n",
      "11678             2    0.01\n",
      "13550            27    0.08\n",
      "14084            41    0.13\n",
      "14344            26    0.08\n",
      "15020             5    0.02\n",
      "15024           347    1.07\n",
      "15831             6    0.02\n",
      "18481             2    0.01\n",
      "20051            37    0.11\n",
      "22040             1    0.00\n",
      "25124             4    0.01\n",
      "25236            11    0.03\n",
      "27828            34    0.10\n",
      "34095             5    0.02\n",
      "41310             2    0.01\n",
      "99999           159    0.49\n"
     ]
    }
   ],
   "source": [
    "rep_gain = pd.DataFrame(df['capital_gain'].value_counts())\n",
    "rep_gain = rep_gain.sort_index()\n",
    "rep_gain['volume'] = round(100*(rep_gain.capital_gain/ rep_gain.capital_gain.sum()),2)\n",
    "print(rep_gain.to_string())"
   ]
  },
  {
   "cell_type": "markdown",
   "id": "6799b5ff",
   "metadata": {},
   "source": [
    "On va transformer ces 2 variables en variable quali, pour pouvoir les exploiter, et gommer l'effet des valeurs extrême."
   ]
  },
  {
   "cell_type": "code",
   "execution_count": 14,
   "id": "8151c8ab",
   "metadata": {},
   "outputs": [
    {
     "data": {
      "text/plain": [
       " >50K     1677\n",
       " <=50K    1035\n",
       "Name: income, dtype: int64"
      ]
     },
     "execution_count": 14,
     "metadata": {},
     "output_type": "execute_result"
    }
   ],
   "source": [
    "df[df.capital_gain > 0 ].income.value_counts()"
   ]
  },
  {
   "cell_type": "markdown",
   "id": "9ecce9a5",
   "metadata": {},
   "source": [
    "## Répartion des variables qualitatives "
   ]
  },
  {
   "cell_type": "code",
   "execution_count": 15,
   "id": "e4fecb16",
   "metadata": {},
   "outputs": [
    {
     "data": {
      "text/plain": [
       "Index(['workclass', 'education', 'marital_status', 'occupation',\n",
       "       'relationship', 'race', 'sex', 'country', 'income'],\n",
       "      dtype='object')"
      ]
     },
     "execution_count": 15,
     "metadata": {},
     "output_type": "execute_result"
    }
   ],
   "source": [
    "#Fréquence d'apparition des différentes modalités des variables qualitatives\n",
    "#C'est à dire les variables de type 'object'\n",
    "\n",
    "#Copie du dataset de base en ne gardant que les variables du type 'object'\n",
    "df_object = df.select_dtypes(include=['object']).copy()\n",
    "df_object.columns\n"
   ]
  },
  {
   "cell_type": "code",
   "execution_count": 16,
   "id": "2880b649",
   "metadata": {
    "scrolled": true
   },
   "outputs": [
    {
     "name": "stdout",
     "output_type": "stream",
     "text": [
      "la variable workclass a 9 modalités :\n",
      " \n",
      " Private             22696 soit: 69.7%\n",
      " Self-emp-not-inc      2541 soit: 7.8%\n",
      " Local-gov            2093 soit: 6.43%\n",
      " ?                    1836 soit: 5.64%\n",
      " State-gov            1298 soit: 3.99%\n",
      " Self-emp-inc         1116 soit: 3.43%\n",
      " Federal-gov           960 soit: 2.95%\n",
      " Without-pay            14 soit: 0.04%\n",
      " Never-worked            7 soit: 0.02%\n",
      "Name: workclass, dtype: object\n",
      "\n",
      "\n",
      "la variable education a 16 modalités :\n",
      " \n",
      " HS-grad         10501 soit: 32.25%\n",
      " Some-college     7291 soit: 22.39%\n",
      " Bachelors        5355 soit: 16.45%\n",
      " Masters           1723 soit: 5.29%\n",
      " Assoc-voc         1382 soit: 4.24%\n",
      " 11th              1175 soit: 3.61%\n",
      " Assoc-acdm        1067 soit: 3.28%\n",
      " 10th               933 soit: 2.87%\n",
      " 7th-8th            646 soit: 1.98%\n",
      " Prof-school        576 soit: 1.77%\n",
      " 9th                514 soit: 1.58%\n",
      " 12th               433 soit: 1.33%\n",
      " Doctorate          413 soit: 1.27%\n",
      " 5th-6th            333 soit: 1.02%\n",
      " 1st-4th            168 soit: 0.52%\n",
      " Preschool           51 soit: 0.16%\n",
      "Name: education, dtype: object\n",
      "\n",
      "\n",
      "la variable marital_status a 7 modalités :\n",
      " \n",
      " Married-civ-spouse       14976 soit: 45.99%\n",
      " Never-married            10683 soit: 32.81%\n",
      " Divorced                  4443 soit: 13.65%\n",
      " Separated                  1025 soit: 3.15%\n",
      " Widowed                     993 soit: 3.05%\n",
      " Married-spouse-absent       418 soit: 1.28%\n",
      " Married-AF-spouse            23 soit: 0.07%\n",
      "Name: marital_status, dtype: object\n",
      "\n",
      "\n",
      "la variable occupation a 15 modalités :\n",
      " \n",
      " Prof-specialty       4140 soit: 12.71%\n",
      " Craft-repair         4099 soit: 12.59%\n",
      " Exec-managerial      4066 soit: 12.49%\n",
      " Adm-clerical         3770 soit: 11.58%\n",
      " Sales                3650 soit: 11.21%\n",
      " Other-service        3295 soit: 10.12%\n",
      " Machine-op-inspct     2002 soit: 6.15%\n",
      " ?                     1843 soit: 5.66%\n",
      " Transport-moving       1597 soit: 4.9%\n",
      " Handlers-cleaners     1370 soit: 4.21%\n",
      " Farming-fishing        994 soit: 3.05%\n",
      " Tech-support           928 soit: 2.85%\n",
      " Protective-serv        649 soit: 1.99%\n",
      " Priv-house-serv        149 soit: 0.46%\n",
      " Armed-Forces             9 soit: 0.03%\n",
      "Name: occupation, dtype: object\n",
      "\n",
      "\n",
      "la variable relationship a 6 modalités :\n",
      " \n",
      " Husband           13193 soit: 40.52%\n",
      " Not-in-family      8305 soit: 25.51%\n",
      " Own-child          5068 soit: 15.56%\n",
      " Unmarried          3446 soit: 10.58%\n",
      " Wife                1568 soit: 4.82%\n",
      " Other-relative       981 soit: 3.01%\n",
      "Name: relationship, dtype: object\n",
      "\n",
      "\n",
      "la variable race a 5 modalités :\n",
      " \n",
      " White                 27816 soit: 85.43%\n",
      " Black                   3124 soit: 9.59%\n",
      " Asian-Pac-Islander      1039 soit: 3.19%\n",
      " Amer-Indian-Eskimo       311 soit: 0.96%\n",
      " Other                    271 soit: 0.83%\n",
      "Name: race, dtype: object\n",
      "\n",
      "\n",
      "la variable sex a 2 modalités :\n",
      " \n",
      " Male      21790 soit: 66.92%\n",
      " Female    10771 soit: 33.08%\n",
      "Name: sex, dtype: object\n",
      "\n",
      "\n",
      "la variable country a 42 modalités :\n",
      " \n",
      " United-States                 29170 soit: 89.59%\n",
      " Mexico                           643 soit: 1.97%\n",
      " ?                                583 soit: 1.79%\n",
      " Philippines                      198 soit: 0.61%\n",
      " Germany                          137 soit: 0.42%\n",
      " Canada                           121 soit: 0.37%\n",
      " Puerto-Rico                      114 soit: 0.35%\n",
      " El-Salvador                      106 soit: 0.33%\n",
      " India                            100 soit: 0.31%\n",
      " Cuba                              95 soit: 0.29%\n",
      " England                           90 soit: 0.28%\n",
      " Jamaica                           81 soit: 0.25%\n",
      " South                             80 soit: 0.25%\n",
      " China                             75 soit: 0.23%\n",
      " Italy                             73 soit: 0.22%\n",
      " Dominican-Republic                70 soit: 0.21%\n",
      " Vietnam                           67 soit: 0.21%\n",
      " Guatemala                          64 soit: 0.2%\n",
      " Japan                             62 soit: 0.19%\n",
      " Poland                            60 soit: 0.18%\n",
      " Columbia                          59 soit: 0.18%\n",
      " Taiwan                            51 soit: 0.16%\n",
      " Haiti                             44 soit: 0.14%\n",
      " Iran                              43 soit: 0.13%\n",
      " Portugal                          37 soit: 0.11%\n",
      " Nicaragua                          34 soit: 0.1%\n",
      " Peru                               31 soit: 0.1%\n",
      " France                            29 soit: 0.09%\n",
      " Greece                            29 soit: 0.09%\n",
      " Ecuador                           28 soit: 0.09%\n",
      " Ireland                           24 soit: 0.07%\n",
      " Hong                              20 soit: 0.06%\n",
      " Cambodia                          19 soit: 0.06%\n",
      " Trinadad&Tobago                   19 soit: 0.06%\n",
      " Laos                              18 soit: 0.06%\n",
      " Thailand                          18 soit: 0.06%\n",
      " Yugoslavia                        16 soit: 0.05%\n",
      " Outlying-US(Guam-USVI-etc)        14 soit: 0.04%\n",
      " Honduras                          13 soit: 0.04%\n",
      " Hungary                           13 soit: 0.04%\n",
      " Scotland                          12 soit: 0.04%\n",
      " Holand-Netherlands                  1 soit: 0.0%\n",
      "Name: country, dtype: object\n",
      "\n",
      "\n",
      "la variable income a 2 modalités :\n",
      " \n",
      " <=50K    24720 soit: 75.92%\n",
      " >50K      7841 soit: 24.08%\n",
      "Name: income, dtype: object\n",
      "\n",
      "\n"
     ]
    }
   ],
   "source": [
    "#Fréquence d'apparition de chaque modalité pour les variables qualitatives\n",
    "for col in list(df_object.columns):\n",
    "    print('la variable ' + col +' a '+ str(df_object[col].nunique()) +' modalités :\\n ')\n",
    "    print(df[col].value_counts(normalize=False).map(str) + ' soit: '+round(df[col].value_counts(normalize=True)*100,2).map(str)+'%')\n",
    "    print('\\n')"
   ]
  },
  {
   "cell_type": "markdown",
   "id": "4ae65726",
   "metadata": {},
   "source": [
    "### Quesqu'on peut remarqué avec cette distribution des modalités par varibables ? \n",
    "\n",
    "Les 3 quarts des individus gagnent moins de 50K par an\n",
    "la quasi totalité des individus viennent des USA (environs 90%) : il serai peut-être plus judicieux de réaliser l'étude uniquement sur les Américains \n",
    "Les 2 tiers des individus sont des hommes \n",
    "85% de personnes blanches\n",
    "46% de personnes mariés, 32% qui ne le sont pas et 14% de divorcés\n",
    "70% travaillent pour le privé, 6% pour le gouvernement\n",
    "\n",
    "Certaines modalités sont très peu présentes, il semble donc nécessaire de procéder à des regroupement voir à supprimer les observations ayant ces modalités "
   ]
  },
  {
   "cell_type": "code",
   "execution_count": 17,
   "id": "a1a2ea98",
   "metadata": {},
   "outputs": [
    {
     "data": {
      "text/plain": [
       " United-States                 29170\n",
       " Mexico                          643\n",
       " ?                               583\n",
       " Philippines                     198\n",
       " Germany                         137\n",
       " Canada                          121\n",
       " Puerto-Rico                     114\n",
       " El-Salvador                     106\n",
       " India                           100\n",
       " Cuba                             95\n",
       " England                          90\n",
       " Jamaica                          81\n",
       " South                            80\n",
       " China                            75\n",
       " Italy                            73\n",
       " Dominican-Republic               70\n",
       " Vietnam                          67\n",
       " Guatemala                        64\n",
       " Japan                            62\n",
       " Poland                           60\n",
       " Columbia                         59\n",
       " Taiwan                           51\n",
       " Haiti                            44\n",
       " Iran                             43\n",
       " Portugal                         37\n",
       " Nicaragua                        34\n",
       " Peru                             31\n",
       " France                           29\n",
       " Greece                           29\n",
       " Ecuador                          28\n",
       " Ireland                          24\n",
       " Hong                             20\n",
       " Cambodia                         19\n",
       " Trinadad&Tobago                  19\n",
       " Laos                             18\n",
       " Thailand                         18\n",
       " Yugoslavia                       16\n",
       " Outlying-US(Guam-USVI-etc)       14\n",
       " Honduras                         13\n",
       " Hungary                          13\n",
       " Scotland                         12\n",
       " Holand-Netherlands                1\n",
       "Name: country, dtype: int64"
      ]
     },
     "execution_count": 17,
     "metadata": {},
     "output_type": "execute_result"
    }
   ],
   "source": [
    "df['country'].value_counts()"
   ]
  },
  {
   "cell_type": "code",
   "execution_count": 18,
   "id": "2b7ab0fa",
   "metadata": {},
   "outputs": [],
   "source": [
    "#La plus part de nos observations concernent des personnes vivant au Etat-Unis, l'étude portera donc\n",
    "#Uniquement sur les personnes vivant au USA\n",
    "#df_2 = df.query('country ==  \" United-States\"')\n",
    "df_2 = df\n"
   ]
  },
  {
   "cell_type": "markdown",
   "id": "676d0a5d",
   "metadata": {},
   "source": [
    "## Valeurs manquantes et aberrantes\n",
    "les valeurs manquantes dans notre dataset sont marqué par la modalité '?' pour les variables qualitatives :\n",
    "    - 1659 (5.64%) pour la variable workclass\n",
    "    - 1666 (5.66%) pour la variable occupation \n",
    "    \n",
    "Au total il y 3325 valeurs manquantes soit environs 10% -> On va supprimer ces observatrion pour éviter tout problèmes\n",
    "\n",
    "\n",
    "Pas de valeurs aberrantes (pesner à regarder les variables capital_gain et capital_loss)"
   ]
  },
  {
   "cell_type": "code",
   "execution_count": 19,
   "id": "286de6d7",
   "metadata": {},
   "outputs": [],
   "source": [
    "#Copie du dataset\n",
    "df_3 = df_2.copy()"
   ]
  },
  {
   "cell_type": "code",
   "execution_count": 20,
   "id": "83af77e0",
   "metadata": {},
   "outputs": [
    {
     "data": {
      "text/plain": [
       "30162"
      ]
     },
     "execution_count": 20,
     "metadata": {},
     "output_type": "execute_result"
    }
   ],
   "source": [
    "#Suppresion des valeurs manquantes\n",
    "df_3.drop(df_3[df_3['workclass'] ==' ?'].index, inplace = True)\n",
    "df_3.drop(df_3[df_3['occupation'] ==' ?'].index, inplace = True)\n",
    "df_3.drop(df_3[df_3['country'] ==' ?'].index, inplace = True)\n",
    "len(df_3)"
   ]
  },
  {
   "cell_type": "markdown",
   "id": "5ed38149",
   "metadata": {},
   "source": [
    "## Regroupement des variables "
   ]
  },
  {
   "cell_type": "code",
   "execution_count": 21,
   "id": "0cd0b55b",
   "metadata": {},
   "outputs": [],
   "source": [
    "# Regroupement de la variable âge\n",
    "# On s'aide des Quartile et de la médiane pour les déterminer \n",
    "df_3.loc[df['age'] <= 28,'age'] = '17-28 ans'\n",
    "df_3.loc[(df['age'] >= 29) & (df['age'] <= 37),'age'] = '29-37 ans'\n",
    "df_3.loc[(df['age'] >= 38) & (df['age'] <= 48),'age'] = '38-48 ans'\n",
    "df_3.loc[(df['age'] >= 49) & (df['age'] <= 60),'age'] = '49-60 ans'\n",
    "df_3.loc[df['age'] >= 61,'age'] = '61 ans et +'\n"
   ]
  },
  {
   "cell_type": "code",
   "execution_count": 22,
   "id": "a495ce22",
   "metadata": {},
   "outputs": [],
   "source": [
    "# Regroupement de la variable hours_per_week\n",
    "# On s'aide des Quartile et de la médiane pour les déterminer \n",
    "df_3.loc[df['hours_per_week'] <= 39,'hours_per_week'] = 'Moins de 40h'\n",
    "df_3.loc[(df['hours_per_week'] >= 40) & (df['hours_per_week'] <= 45),'hours_per_week'] = '40-45h'\n",
    "df_3.loc[df['hours_per_week'] >= 46,'hours_per_week'] = 'Plus de 45h'\n"
   ]
  },
  {
   "cell_type": "code",
   "execution_count": 23,
   "id": "8670b27a",
   "metadata": {
    "scrolled": true
   },
   "outputs": [],
   "source": [
    "# Regroupement de la variable workclass\n",
    "# On veut 4 modalités : Self (auto entrepreneur), ne travaille pas, privé et gouvernement\n",
    "df_3.loc[(df['workclass']==' Without-pay') |\n",
    "         (df['workclass']==' Never-worked')\n",
    "         , ['workclass']] = 'Not-Working'\n",
    "\n",
    "df_3.loc[(df['workclass']==' Self-emp-inc') |\n",
    "         (df['workclass']==' Self-emp-not-inc')\n",
    "         , ['workclass']] = 'Self' \n",
    "\n",
    "df_3.loc[(df['workclass']==' Local-gov') |\n",
    "         (df['workclass']==' State-gov') |\n",
    "         (df['workclass']==' Federal-gov')\n",
    "         , ['workclass']] = 'Government'"
   ]
  },
  {
   "cell_type": "code",
   "execution_count": 24,
   "id": "39a0bc9c",
   "metadata": {},
   "outputs": [],
   "source": [
    "# Regroupement de la variable education\n",
    "df_3.loc[(df['education']==' Assoc-acdm') |\n",
    "         (df['education']==' Assoc-voc')\n",
    "         , ['education']] = 'Assoc' \n",
    "\n",
    "df_3.loc[(df['education']==' Preschool') |\n",
    "         (df['education']==' 1st-4th') |\n",
    "         (df['education']==' 5th-6th') |\n",
    "         (df['education']==' 7th-8th') |\n",
    "         (df['education']==' 9th') |\n",
    "         (df['education']==' 10th') |\n",
    "         (df['education']==' 11th') |\n",
    "         (df['education']==' 12th') \n",
    "         , ['education']] = 'Before-HS' \n",
    "\n",
    "df_3.loc[(df['education']==' Bachelors') , ['education']] = 'Bachelors' \n",
    "\n",
    "df_3.loc[(df['education']==' HS-grad') , ['education']] = 'HS' \n",
    "\n",
    "df_3.loc[(df['education']==' Some-college') , ['education']] = 'College' \n",
    "\n",
    "df_3.loc[(df['education']==' Masters') , ['education']] = 'Masters'  \n",
    "\n",
    "df_3.loc[(df['education']==' Doctorate') , ['education']] = 'Doctorate' "
   ]
  },
  {
   "cell_type": "code",
   "execution_count": 25,
   "id": "8e2792b7",
   "metadata": {},
   "outputs": [],
   "source": [
    "# Regroupement de la variable marital_status\n",
    "# On veut 3 modalités : Marrié, jamais marrié et non marrié\n",
    "df_3.loc[(df['marital_status']==' Married-civ-spouse') |\n",
    "         (df['marital_status']==' Married-AF-spouse')\n",
    "         , ['marital_status']] = 'Married'\n",
    "\n",
    "df_3.loc[(df['marital_status']==' Divorced') |\n",
    "         (df['marital_status']==' Separated') |\n",
    "         (df['marital_status']==' Widowed') |\n",
    "         (df['marital_status']==' Married-spouse-absent') \n",
    "         , ['marital_status']] = 'Not-Married'\n",
    "\n",
    "df_3.loc[df['marital_status']==' Never-married', ['marital_status']] ='Never-married'"
   ]
  },
  {
   "cell_type": "code",
   "execution_count": 26,
   "id": "980b316f",
   "metadata": {},
   "outputs": [],
   "source": [
    "# Regroupement de la variable occupation\n",
    "df_3.loc[df['occupation']==' Adm-clerical', ['relationship']] ='Admin'\n",
    "\n",
    "df_3.loc[(df['occupation']==' Farming-fishing') |\n",
    "         (df['occupation']==' Craft-repair') |\n",
    "         (df['occupation']==' Handlers-cleaners') |\n",
    "         (df['occupation']==' Machine-op-inspct') |\n",
    "         (df['occupation']==' Transport-moving') \n",
    "         , ['occupation']] ='Physical-work'\n",
    "\n",
    "df_3.loc[(df['occupation']==' Other-service') |\n",
    "         (df['occupation']==' Priv-house-serv') |\n",
    "         (df['occupation']==' Protective-serv') \n",
    "         , ['occupation']] ='Physical-work'\n",
    "\n",
    "df_3.loc[df['occupation']==' Exec-managerial', ['occupation']] ='Office-employee'\n",
    "\n",
    "df_3.loc[df['occupation']==' Armed-Forces', ['occupation']] ='Army'\n",
    "\n",
    "df_3.loc[df['occupation']==' Prof-specialty', ['occupation']] ='Professional'\n",
    "\n",
    "df_3.loc[df['occupation']==' Sales', ['occupation']] ='Sales'\n",
    "\n",
    "df_3.loc[df['occupation']==' Tech-support', ['occupation']] ='Other'"
   ]
  },
  {
   "cell_type": "code",
   "execution_count": 27,
   "id": "38c53078",
   "metadata": {},
   "outputs": [],
   "source": [
    "# Regroupement de la variable relationship\n",
    "# A faire plus tard, mais pas forcement utile car même chose que marital_statut"
   ]
  },
  {
   "cell_type": "markdown",
   "id": "d432142b",
   "metadata": {},
   "source": [
    "## Recodage des variables "
   ]
  },
  {
   "cell_type": "code",
   "execution_count": 28,
   "id": "fd29ee8a",
   "metadata": {
    "scrolled": true
   },
   "outputs": [],
   "source": [
    "#On recode la variable sex\n",
    "df_3.replace({'sex':{' Male':1,' Female':0}}, inplace = True)"
   ]
  },
  {
   "cell_type": "code",
   "execution_count": 29,
   "id": "2b25c130",
   "metadata": {},
   "outputs": [],
   "source": [
    "# On recode la variable cible : le salaire\n",
    "#Si le salaire est supérieur à 50K alors 1 sinon 0\n",
    "df_3.loc[df['income']==' >50K', ['income']] =1\n",
    "df_3.loc[df['income']==' <=50K', ['income']] =0"
   ]
  },
  {
   "cell_type": "code",
   "execution_count": 30,
   "id": "a4678dda",
   "metadata": {},
   "outputs": [
    {
     "name": "stderr",
     "output_type": "stream",
     "text": [
      "C:\\Users\\Admin\\anaconda3\\lib\\site-packages\\seaborn\\distributions.py:2619: FutureWarning: `distplot` is a deprecated function and will be removed in a future version. Please adapt your code to use either `displot` (a figure-level function with similar flexibility) or `histplot` (an axes-level function for histograms).\n",
      "  warnings.warn(msg, FutureWarning)\n"
     ]
    },
    {
     "data": {
      "text/plain": [
       "<AxesSubplot:xlabel='capital_gain'>"
      ]
     },
     "execution_count": 30,
     "metadata": {},
     "output_type": "execute_result"
    },
    {
     "data": {
      "image/png": "[encoded data removed]",
      "text/plain": [
       "<Figure size 432x288 with 1 Axes>"
      ]
     },
     "metadata": {
      "needs_background": "light"
     },
     "output_type": "display_data"
    }
   ],
   "source": [
    "# Repartition pour la variable capital_gain\n",
    "sns.distplot(df[df.capital_gain > 0].capital_gain, kde=False)"
   ]
  },
  {
   "cell_type": "code",
   "execution_count": 31,
   "id": "f9e2dad7",
   "metadata": {},
   "outputs": [
    {
     "data": {
      "text/plain": [
       "0           27624\n",
       "0-50K        2390\n",
       "50K et +      148\n",
       "Name: capital_gain, dtype: int64"
      ]
     },
     "execution_count": 31,
     "metadata": {},
     "output_type": "execute_result"
    }
   ],
   "source": [
    "# On recode la variable capital_gain\n",
    "df_3.loc[df['capital_gain'] == 0, ['capital_gain']] = '0'\n",
    "df_3.loc[(df['capital_gain'] > 0) & (df['capital_gain'] <= 50000), ['capital_gain']] ='0-50K'\n",
    "df_3.loc[df['capital_gain'] > 50000, ['capital_gain']] = '50K et +'\n",
    "df_3['capital_gain'].value_counts()"
   ]
  },
  {
   "cell_type": "code",
   "execution_count": 32,
   "id": "fb4c52a4",
   "metadata": {},
   "outputs": [
    {
     "name": "stderr",
     "output_type": "stream",
     "text": [
      "C:\\Users\\Admin\\anaconda3\\lib\\site-packages\\seaborn\\distributions.py:2619: FutureWarning: `distplot` is a deprecated function and will be removed in a future version. Please adapt your code to use either `displot` (a figure-level function with similar flexibility) or `histplot` (an axes-level function for histograms).\n",
      "  warnings.warn(msg, FutureWarning)\n"
     ]
    },
    {
     "data": {
      "text/plain": [
       "<AxesSubplot:xlabel='capital_loss'>"
      ]
     },
     "execution_count": 32,
     "metadata": {},
     "output_type": "execute_result"
    },
    {
     "data": {
      "image/png": "[encoded data removed]",
      "text/plain": [
       "<Figure size 432x288 with 1 Axes>"
      ]
     },
     "metadata": {
      "needs_background": "light"
     },
     "output_type": "display_data"
    }
   ],
   "source": [
    "# Repartition pour la variable capital_loss\n",
    "sns.distplot(df[df.capital_loss > 0].capital_loss, kde=False)"
   ]
  },
  {
   "cell_type": "code",
   "execution_count": 33,
   "id": "8871b913",
   "metadata": {},
   "outputs": [
    {
     "data": {
      "text/plain": [
       "0       28735\n",
       "0-5K     1427\n",
       "Name: capital_loss, dtype: int64"
      ]
     },
     "execution_count": 33,
     "metadata": {},
     "output_type": "execute_result"
    }
   ],
   "source": [
    "# On recode la variable capital_loss\n",
    "df_3.loc[df['capital_loss'] == 0, ['capital_loss']] = '0'\n",
    "df_3.loc[(df['capital_loss'] > 0), ['capital_loss']] ='0-5K'\n",
    "df_3['capital_loss'].value_counts()"
   ]
  },
  {
   "cell_type": "raw",
   "id": "83ef31f3",
   "metadata": {},
   "source": [
    "# On recode la variable race\n",
    "# Valeur 1 si 'White' 0 sinon\n",
    "df_3.loc[df['race'] == ' White', ['race']] =1\n",
    "\n",
    "df_3.loc[(df['race']== ' Black') | \n",
    "         (df['race']== ' Asian-Pac-Islander') |\n",
    "         (df['race']== ' Amer-Indian-Eskimo')|\n",
    "         (df['race']== ' Other'),['race']] = 0"
   ]
  },
  {
   "cell_type": "code",
   "execution_count": 34,
   "id": "247f97fe",
   "metadata": {},
   "outputs": [],
   "source": [
    "df_m = df_3.copy()"
   ]
  },
  {
   "cell_type": "markdown",
   "id": "308c2c35",
   "metadata": {},
   "source": [
    "## V de cramer "
   ]
  },
  {
   "cell_type": "code",
   "execution_count": 35,
   "id": "bcef7612",
   "metadata": {
    "scrolled": true
   },
   "outputs": [
    {
     "name": "stderr",
     "output_type": "stream",
     "text": [
      "C:\\Users\\Admin\\anaconda3\\lib\\site-packages\\pandas\\core\\algorithms.py:798: FutureWarning: In a future version, the Index constructor will not infer numeric dtypes when passed object-dtype sequences (matching Series behavior)\n",
      "  uniques = Index(uniques)\n"
     ]
    }
   ],
   "source": [
    "import itertools\n",
    "# nominal variables (use Cramer's V)\n",
    "nom_vars = ['age', 'workclass', 'fnlwgt', 'education','education_num','marital_status','occupation','relationship',\n",
    "             'race','sex','capital_gain','capital_loss','hours_per_week','income','country']\n",
    "\n",
    "# convert all string 'object' types to numeric categories\n",
    "for i in df_3.columns:\n",
    "    if df_3[i].dtype == 'object':\n",
    "        df_3[i], _ = pd.factorize(df_3[i])\n",
    "\n",
    "# A method that creates a correlation matrix in the form of a Pandas DataFrame using Cramer's V.\n",
    "def cramers_v_matrix(dataframe, variables):\n",
    "    \n",
    "    df_3 = pd.DataFrame(index=dataframe[variables].columns,\n",
    "                      columns=dataframe[variables].columns,\n",
    "                      dtype=\"float64\")\n",
    "    \n",
    "    for v1, v2 in itertools.combinations(variables, 2):\n",
    "        \n",
    "        # generate contingency table:\n",
    "        table = pd.crosstab(dataframe[v1], dataframe[v2])\n",
    "        n     = len(dataframe.index)\n",
    "        r, k  = table.shape\n",
    "        \n",
    "        # calculate chi squared and phi\n",
    "        chi2  = ss.chi2_contingency(table)[0]\n",
    "        phi2  = chi2/n\n",
    "        \n",
    "        # bias corrections:\n",
    "        r = r - ((r - 1)**2)/(n - 1)\n",
    "        k = k - ((k - 1)**2)/(n - 1)\n",
    "        phi2 = max(0, phi2 - (k - 1)*(r - 1)/(n - 1))\n",
    "        \n",
    "        # fill correlation matrix\n",
    "        df_3.loc[v1, v2] = np.sqrt(phi2/min(k - 1, r - 1))\n",
    "        df_3.loc[v2, v1] = np.sqrt(phi2/min(k - 1, r - 1))\n",
    "        np.fill_diagonal(df_3.values, np.ones(len(df_3)))\n",
    "        \n",
    "    return df_3"
   ]
  },
  {
   "cell_type": "code",
   "execution_count": 36,
   "id": "c5bbe57d",
   "metadata": {
    "scrolled": false
   },
   "outputs": [
    {
     "data": {
      "text/plain": [
       "Text(0.5, 1.0, \"Cramer's V Correlation\")"
      ]
     },
     "execution_count": 36,
     "metadata": {},
     "output_type": "execute_result"
    },
    {
     "data": {
      "image/png": "[encoded data removed]",
      "text/plain": [
       "<Figure size 1296x1080 with 2 Axes>"
      ]
     },
     "metadata": {
      "needs_background": "light"
     },
     "output_type": "display_data"
    }
   ],
   "source": [
    "fig, ax = plt.subplots(figsize=(18,15))\n",
    "# nominal variable correlation\n",
    "ax1 = sns.heatmap(cramers_v_matrix(df_3, nom_vars), annot=True)\n",
    "ax1.set_title(\"Cramer's V Correlation\")\n",
    "        "
   ]
  },
  {
   "cell_type": "code",
   "execution_count": 37,
   "id": "e26de3d2",
   "metadata": {},
   "outputs": [
    {
     "data": {
      "image/png": "[encoded data removed]",
      "text/plain": [
       "<Figure size 1440x1080 with 2 Axes>"
      ]
     },
     "metadata": {
      "needs_background": "light"
     },
     "output_type": "display_data"
    }
   ],
   "source": [
    "fig,ax=plt.subplots(figsize=(20,15))\n",
    "ax=sns.heatmap(df_3.corr(),annot=True)"
   ]
  },
  {
   "cell_type": "markdown",
   "id": "98a09c26",
   "metadata": {},
   "source": [
    "### Que peut-on observé avec les V de cramer ?\n",
    "\n",
    "Concernant la corrélation avec notre variable à expliquer le salaire, il semble que toutes les variables ont une influence sur cette dernière, bien que la variable 'race' semble être celle avec la moins d'influence.\n",
    "\n",
    "Corrélation entre les variables à expliquer :\n",
    "- sex et relationship : 0.65 variable qui a la plus forte corrélation avec le salaire : relationship\n",
    "- sex et occupation : 0.44 variable qui a la plus forte corrélation avec le salaire : occupation\n",
    "- relationship et marital_status : 0.49 variable qui a la plus forte corrélation avec le salaire : pareil \n",
    "- sex et salary : 0.22"
   ]
  },
  {
   "cell_type": "code",
   "execution_count": 38,
   "id": "9f72fa26",
   "metadata": {
    "scrolled": true
   },
   "outputs": [
    {
     "data": {
      "text/html": [
       "<div>\n",
       "<style scoped>\n",
       "    .dataframe tbody tr th:only-of-type {\n",
       "        vertical-align: middle;\n",
       "    }\n",
       "\n",
       "    .dataframe tbody tr th {\n",
       "        vertical-align: top;\n",
       "    }\n",
       "\n",
       "    .dataframe thead th {\n",
       "        text-align: right;\n",
       "    }\n",
       "</style>\n",
       "<table border=\"1\" class=\"dataframe\">\n",
       "  <thead>\n",
       "    <tr style=\"text-align: right;\">\n",
       "      <th></th>\n",
       "      <th>age</th>\n",
       "      <th>workclass</th>\n",
       "      <th>education</th>\n",
       "      <th>marital_status</th>\n",
       "      <th>occupation</th>\n",
       "      <th>race</th>\n",
       "      <th>capital_gain</th>\n",
       "      <th>capital_loss</th>\n",
       "      <th>hours_per_week</th>\n",
       "    </tr>\n",
       "  </thead>\n",
       "  <tbody>\n",
       "    <tr>\n",
       "      <th>0</th>\n",
       "      <td>38-48 ans</td>\n",
       "      <td>Government</td>\n",
       "      <td>Bachelors</td>\n",
       "      <td>Never-married</td>\n",
       "      <td>Adm-clerical</td>\n",
       "      <td>White</td>\n",
       "      <td>0-50K</td>\n",
       "      <td>0</td>\n",
       "      <td>40-45h</td>\n",
       "    </tr>\n",
       "    <tr>\n",
       "      <th>1</th>\n",
       "      <td>49-60 ans</td>\n",
       "      <td>Self</td>\n",
       "      <td>Bachelors</td>\n",
       "      <td>Married</td>\n",
       "      <td>Office-employee</td>\n",
       "      <td>White</td>\n",
       "      <td>0</td>\n",
       "      <td>0</td>\n",
       "      <td>Moins de 40h</td>\n",
       "    </tr>\n",
       "    <tr>\n",
       "      <th>2</th>\n",
       "      <td>38-48 ans</td>\n",
       "      <td>Private</td>\n",
       "      <td>HS</td>\n",
       "      <td>Not-Married</td>\n",
       "      <td>Physical-work</td>\n",
       "      <td>White</td>\n",
       "      <td>0</td>\n",
       "      <td>0</td>\n",
       "      <td>40-45h</td>\n",
       "    </tr>\n",
       "    <tr>\n",
       "      <th>3</th>\n",
       "      <td>49-60 ans</td>\n",
       "      <td>Private</td>\n",
       "      <td>Before-HS</td>\n",
       "      <td>Married</td>\n",
       "      <td>Physical-work</td>\n",
       "      <td>Black</td>\n",
       "      <td>0</td>\n",
       "      <td>0</td>\n",
       "      <td>40-45h</td>\n",
       "    </tr>\n",
       "    <tr>\n",
       "      <th>4</th>\n",
       "      <td>17-28 ans</td>\n",
       "      <td>Private</td>\n",
       "      <td>Bachelors</td>\n",
       "      <td>Married</td>\n",
       "      <td>Professional</td>\n",
       "      <td>Black</td>\n",
       "      <td>0</td>\n",
       "      <td>0</td>\n",
       "      <td>40-45h</td>\n",
       "    </tr>\n",
       "    <tr>\n",
       "      <th>...</th>\n",
       "      <td>...</td>\n",
       "      <td>...</td>\n",
       "      <td>...</td>\n",
       "      <td>...</td>\n",
       "      <td>...</td>\n",
       "      <td>...</td>\n",
       "      <td>...</td>\n",
       "      <td>...</td>\n",
       "      <td>...</td>\n",
       "    </tr>\n",
       "    <tr>\n",
       "      <th>32556</th>\n",
       "      <td>17-28 ans</td>\n",
       "      <td>Private</td>\n",
       "      <td>Assoc</td>\n",
       "      <td>Married</td>\n",
       "      <td>Other</td>\n",
       "      <td>White</td>\n",
       "      <td>0</td>\n",
       "      <td>0</td>\n",
       "      <td>Moins de 40h</td>\n",
       "    </tr>\n",
       "    <tr>\n",
       "      <th>32557</th>\n",
       "      <td>38-48 ans</td>\n",
       "      <td>Private</td>\n",
       "      <td>HS</td>\n",
       "      <td>Married</td>\n",
       "      <td>Physical-work</td>\n",
       "      <td>White</td>\n",
       "      <td>0</td>\n",
       "      <td>0</td>\n",
       "      <td>40-45h</td>\n",
       "    </tr>\n",
       "    <tr>\n",
       "      <th>32558</th>\n",
       "      <td>49-60 ans</td>\n",
       "      <td>Private</td>\n",
       "      <td>HS</td>\n",
       "      <td>Not-Married</td>\n",
       "      <td>Adm-clerical</td>\n",
       "      <td>White</td>\n",
       "      <td>0</td>\n",
       "      <td>0</td>\n",
       "      <td>40-45h</td>\n",
       "    </tr>\n",
       "    <tr>\n",
       "      <th>32559</th>\n",
       "      <td>17-28 ans</td>\n",
       "      <td>Private</td>\n",
       "      <td>HS</td>\n",
       "      <td>Never-married</td>\n",
       "      <td>Adm-clerical</td>\n",
       "      <td>White</td>\n",
       "      <td>0</td>\n",
       "      <td>0</td>\n",
       "      <td>Moins de 40h</td>\n",
       "    </tr>\n",
       "    <tr>\n",
       "      <th>32560</th>\n",
       "      <td>49-60 ans</td>\n",
       "      <td>Self</td>\n",
       "      <td>HS</td>\n",
       "      <td>Married</td>\n",
       "      <td>Office-employee</td>\n",
       "      <td>White</td>\n",
       "      <td>0-50K</td>\n",
       "      <td>0</td>\n",
       "      <td>40-45h</td>\n",
       "    </tr>\n",
       "  </tbody>\n",
       "</table>\n",
       "<p>30162 rows × 9 columns</p>\n",
       "</div>"
      ],
      "text/plain": [
       "             age   workclass  education marital_status       occupation  \\\n",
       "0      38-48 ans  Government  Bachelors  Never-married     Adm-clerical   \n",
       "1      49-60 ans        Self  Bachelors        Married  Office-employee   \n",
       "2      38-48 ans     Private         HS    Not-Married    Physical-work   \n",
       "3      49-60 ans     Private  Before-HS        Married    Physical-work   \n",
       "4      17-28 ans     Private  Bachelors        Married     Professional   \n",
       "...          ...         ...        ...            ...              ...   \n",
       "32556  17-28 ans     Private      Assoc        Married            Other   \n",
       "32557  38-48 ans     Private         HS        Married    Physical-work   \n",
       "32558  49-60 ans     Private         HS    Not-Married     Adm-clerical   \n",
       "32559  17-28 ans     Private         HS  Never-married     Adm-clerical   \n",
       "32560  49-60 ans        Self         HS        Married  Office-employee   \n",
       "\n",
       "         race capital_gain capital_loss hours_per_week  \n",
       "0       White        0-50K            0         40-45h  \n",
       "1       White            0            0   Moins de 40h  \n",
       "2       White            0            0         40-45h  \n",
       "3       Black            0            0         40-45h  \n",
       "4       Black            0            0         40-45h  \n",
       "...       ...          ...          ...            ...  \n",
       "32556   White            0            0   Moins de 40h  \n",
       "32557   White            0            0         40-45h  \n",
       "32558   White            0            0         40-45h  \n",
       "32559   White            0            0   Moins de 40h  \n",
       "32560   White        0-50K            0         40-45h  \n",
       "\n",
       "[30162 rows x 9 columns]"
      ]
     },
     "execution_count": 38,
     "metadata": {},
     "output_type": "execute_result"
    }
   ],
   "source": [
    "df_4 = df_m.copy()\n",
    "df_4 = df_4.drop(['fnlwgt','income','index','education_num','relationship','country','sex'] , axis=1) \n",
    "#On supprime les variables suite à l'analyse de V de Cramer ainsi que income la variable a expliquer\n",
    "df_4"
   ]
  },
  {
   "cell_type": "markdown",
   "id": "2a4bdb96",
   "metadata": {},
   "source": [
    "## On transforme les variables en variable dummies "
   ]
  },
  {
   "cell_type": "code",
   "execution_count": 39,
   "id": "05563023",
   "metadata": {},
   "outputs": [
    {
     "data": {
      "text/html": [
       "<div>\n",
       "<style scoped>\n",
       "    .dataframe tbody tr th:only-of-type {\n",
       "        vertical-align: middle;\n",
       "    }\n",
       "\n",
       "    .dataframe tbody tr th {\n",
       "        vertical-align: top;\n",
       "    }\n",
       "\n",
       "    .dataframe thead th {\n",
       "        text-align: right;\n",
       "    }\n",
       "</style>\n",
       "<table border=\"1\" class=\"dataframe\">\n",
       "  <thead>\n",
       "    <tr style=\"text-align: right;\">\n",
       "      <th></th>\n",
       "      <th>index</th>\n",
       "      <th>age</th>\n",
       "      <th>workclass</th>\n",
       "      <th>fnlwgt</th>\n",
       "      <th>education</th>\n",
       "      <th>education_num</th>\n",
       "      <th>marital_status</th>\n",
       "      <th>occupation</th>\n",
       "      <th>relationship</th>\n",
       "      <th>race</th>\n",
       "      <th>sex</th>\n",
       "      <th>capital_gain</th>\n",
       "      <th>capital_loss</th>\n",
       "      <th>hours_per_week</th>\n",
       "      <th>country</th>\n",
       "      <th>income</th>\n",
       "    </tr>\n",
       "  </thead>\n",
       "  <tbody>\n",
       "    <tr>\n",
       "      <th>0</th>\n",
       "      <td>1</td>\n",
       "      <td>0</td>\n",
       "      <td>0</td>\n",
       "      <td>77516</td>\n",
       "      <td>0</td>\n",
       "      <td>13</td>\n",
       "      <td>0</td>\n",
       "      <td>0</td>\n",
       "      <td>0</td>\n",
       "      <td>0</td>\n",
       "      <td>1</td>\n",
       "      <td>0</td>\n",
       "      <td>0</td>\n",
       "      <td>0</td>\n",
       "      <td>0</td>\n",
       "      <td>0</td>\n",
       "    </tr>\n",
       "    <tr>\n",
       "      <th>1</th>\n",
       "      <td>2</td>\n",
       "      <td>1</td>\n",
       "      <td>1</td>\n",
       "      <td>83311</td>\n",
       "      <td>0</td>\n",
       "      <td>13</td>\n",
       "      <td>1</td>\n",
       "      <td>1</td>\n",
       "      <td>1</td>\n",
       "      <td>0</td>\n",
       "      <td>1</td>\n",
       "      <td>1</td>\n",
       "      <td>0</td>\n",
       "      <td>1</td>\n",
       "      <td>0</td>\n",
       "      <td>0</td>\n",
       "    </tr>\n",
       "    <tr>\n",
       "      <th>2</th>\n",
       "      <td>3</td>\n",
       "      <td>0</td>\n",
       "      <td>2</td>\n",
       "      <td>215646</td>\n",
       "      <td>1</td>\n",
       "      <td>9</td>\n",
       "      <td>2</td>\n",
       "      <td>2</td>\n",
       "      <td>2</td>\n",
       "      <td>0</td>\n",
       "      <td>1</td>\n",
       "      <td>1</td>\n",
       "      <td>0</td>\n",
       "      <td>0</td>\n",
       "      <td>0</td>\n",
       "      <td>0</td>\n",
       "    </tr>\n",
       "    <tr>\n",
       "      <th>3</th>\n",
       "      <td>4</td>\n",
       "      <td>1</td>\n",
       "      <td>2</td>\n",
       "      <td>234721</td>\n",
       "      <td>2</td>\n",
       "      <td>7</td>\n",
       "      <td>1</td>\n",
       "      <td>2</td>\n",
       "      <td>1</td>\n",
       "      <td>1</td>\n",
       "      <td>1</td>\n",
       "      <td>1</td>\n",
       "      <td>0</td>\n",
       "      <td>0</td>\n",
       "      <td>0</td>\n",
       "      <td>0</td>\n",
       "    </tr>\n",
       "    <tr>\n",
       "      <th>4</th>\n",
       "      <td>5</td>\n",
       "      <td>2</td>\n",
       "      <td>2</td>\n",
       "      <td>338409</td>\n",
       "      <td>0</td>\n",
       "      <td>13</td>\n",
       "      <td>1</td>\n",
       "      <td>3</td>\n",
       "      <td>3</td>\n",
       "      <td>1</td>\n",
       "      <td>0</td>\n",
       "      <td>1</td>\n",
       "      <td>0</td>\n",
       "      <td>0</td>\n",
       "      <td>1</td>\n",
       "      <td>0</td>\n",
       "    </tr>\n",
       "    <tr>\n",
       "      <th>...</th>\n",
       "      <td>...</td>\n",
       "      <td>...</td>\n",
       "      <td>...</td>\n",
       "      <td>...</td>\n",
       "      <td>...</td>\n",
       "      <td>...</td>\n",
       "      <td>...</td>\n",
       "      <td>...</td>\n",
       "      <td>...</td>\n",
       "      <td>...</td>\n",
       "      <td>...</td>\n",
       "      <td>...</td>\n",
       "      <td>...</td>\n",
       "      <td>...</td>\n",
       "      <td>...</td>\n",
       "      <td>...</td>\n",
       "    </tr>\n",
       "    <tr>\n",
       "      <th>32556</th>\n",
       "      <td>32557</td>\n",
       "      <td>2</td>\n",
       "      <td>2</td>\n",
       "      <td>257302</td>\n",
       "      <td>5</td>\n",
       "      <td>12</td>\n",
       "      <td>1</td>\n",
       "      <td>5</td>\n",
       "      <td>3</td>\n",
       "      <td>0</td>\n",
       "      <td>0</td>\n",
       "      <td>1</td>\n",
       "      <td>0</td>\n",
       "      <td>1</td>\n",
       "      <td>0</td>\n",
       "      <td>0</td>\n",
       "    </tr>\n",
       "    <tr>\n",
       "      <th>32557</th>\n",
       "      <td>32558</td>\n",
       "      <td>0</td>\n",
       "      <td>2</td>\n",
       "      <td>154374</td>\n",
       "      <td>1</td>\n",
       "      <td>9</td>\n",
       "      <td>1</td>\n",
       "      <td>2</td>\n",
       "      <td>1</td>\n",
       "      <td>0</td>\n",
       "      <td>1</td>\n",
       "      <td>1</td>\n",
       "      <td>0</td>\n",
       "      <td>0</td>\n",
       "      <td>0</td>\n",
       "      <td>1</td>\n",
       "    </tr>\n",
       "    <tr>\n",
       "      <th>32558</th>\n",
       "      <td>32559</td>\n",
       "      <td>1</td>\n",
       "      <td>2</td>\n",
       "      <td>151910</td>\n",
       "      <td>1</td>\n",
       "      <td>9</td>\n",
       "      <td>2</td>\n",
       "      <td>0</td>\n",
       "      <td>0</td>\n",
       "      <td>0</td>\n",
       "      <td>0</td>\n",
       "      <td>1</td>\n",
       "      <td>0</td>\n",
       "      <td>0</td>\n",
       "      <td>0</td>\n",
       "      <td>0</td>\n",
       "    </tr>\n",
       "    <tr>\n",
       "      <th>32559</th>\n",
       "      <td>32560</td>\n",
       "      <td>2</td>\n",
       "      <td>2</td>\n",
       "      <td>201490</td>\n",
       "      <td>1</td>\n",
       "      <td>9</td>\n",
       "      <td>0</td>\n",
       "      <td>0</td>\n",
       "      <td>0</td>\n",
       "      <td>0</td>\n",
       "      <td>1</td>\n",
       "      <td>1</td>\n",
       "      <td>0</td>\n",
       "      <td>1</td>\n",
       "      <td>0</td>\n",
       "      <td>0</td>\n",
       "    </tr>\n",
       "    <tr>\n",
       "      <th>32560</th>\n",
       "      <td>32561</td>\n",
       "      <td>1</td>\n",
       "      <td>1</td>\n",
       "      <td>287927</td>\n",
       "      <td>1</td>\n",
       "      <td>9</td>\n",
       "      <td>1</td>\n",
       "      <td>1</td>\n",
       "      <td>3</td>\n",
       "      <td>0</td>\n",
       "      <td>0</td>\n",
       "      <td>0</td>\n",
       "      <td>0</td>\n",
       "      <td>0</td>\n",
       "      <td>0</td>\n",
       "      <td>1</td>\n",
       "    </tr>\n",
       "  </tbody>\n",
       "</table>\n",
       "<p>30162 rows × 16 columns</p>\n",
       "</div>"
      ],
      "text/plain": [
       "       index  age  workclass  fnlwgt  education  education_num  \\\n",
       "0          1    0          0   77516          0             13   \n",
       "1          2    1          1   83311          0             13   \n",
       "2          3    0          2  215646          1              9   \n",
       "3          4    1          2  234721          2              7   \n",
       "4          5    2          2  338409          0             13   \n",
       "...      ...  ...        ...     ...        ...            ...   \n",
       "32556  32557    2          2  257302          5             12   \n",
       "32557  32558    0          2  154374          1              9   \n",
       "32558  32559    1          2  151910          1              9   \n",
       "32559  32560    2          2  201490          1              9   \n",
       "32560  32561    1          1  287927          1              9   \n",
       "\n",
       "       marital_status  occupation  relationship  race  sex  capital_gain  \\\n",
       "0                   0           0             0     0    1             0   \n",
       "1                   1           1             1     0    1             1   \n",
       "2                   2           2             2     0    1             1   \n",
       "3                   1           2             1     1    1             1   \n",
       "4                   1           3             3     1    0             1   \n",
       "...               ...         ...           ...   ...  ...           ...   \n",
       "32556               1           5             3     0    0             1   \n",
       "32557               1           2             1     0    1             1   \n",
       "32558               2           0             0     0    0             1   \n",
       "32559               0           0             0     0    1             1   \n",
       "32560               1           1             3     0    0             0   \n",
       "\n",
       "       capital_loss  hours_per_week  country  income  \n",
       "0                 0               0        0       0  \n",
       "1                 0               1        0       0  \n",
       "2                 0               0        0       0  \n",
       "3                 0               0        0       0  \n",
       "4                 0               0        1       0  \n",
       "...             ...             ...      ...     ...  \n",
       "32556             0               1        0       0  \n",
       "32557             0               0        0       1  \n",
       "32558             0               0        0       0  \n",
       "32559             0               1        0       0  \n",
       "32560             0               0        0       1  \n",
       "\n",
       "[30162 rows x 16 columns]"
      ]
     },
     "execution_count": 39,
     "metadata": {},
     "output_type": "execute_result"
    }
   ],
   "source": [
    "df_3"
   ]
  },
  {
   "cell_type": "code",
   "execution_count": 40,
   "id": "99d24bc6",
   "metadata": {
    "scrolled": true
   },
   "outputs": [
    {
     "data": {
      "text/html": [
       "<div>\n",
       "<style scoped>\n",
       "    .dataframe tbody tr th:only-of-type {\n",
       "        vertical-align: middle;\n",
       "    }\n",
       "\n",
       "    .dataframe tbody tr th {\n",
       "        vertical-align: top;\n",
       "    }\n",
       "\n",
       "    .dataframe thead th {\n",
       "        text-align: right;\n",
       "    }\n",
       "</style>\n",
       "<table border=\"1\" class=\"dataframe\">\n",
       "  <thead>\n",
       "    <tr style=\"text-align: right;\">\n",
       "      <th></th>\n",
       "      <th>age_17-28 ans</th>\n",
       "      <th>age_29-37 ans</th>\n",
       "      <th>age_38-48 ans</th>\n",
       "      <th>age_49-60 ans</th>\n",
       "      <th>age_61 ans et +</th>\n",
       "      <th>workclass_ Private</th>\n",
       "      <th>workclass_Government</th>\n",
       "      <th>workclass_Not-Working</th>\n",
       "      <th>workclass_Self</th>\n",
       "      <th>education_ Prof-school</th>\n",
       "      <th>...</th>\n",
       "      <th>race_ Other</th>\n",
       "      <th>race_ White</th>\n",
       "      <th>capital_gain_0</th>\n",
       "      <th>capital_gain_0-50K</th>\n",
       "      <th>capital_gain_50K et +</th>\n",
       "      <th>capital_loss_0</th>\n",
       "      <th>capital_loss_0-5K</th>\n",
       "      <th>hours_per_week_40-45h</th>\n",
       "      <th>hours_per_week_Moins de 40h</th>\n",
       "      <th>hours_per_week_Plus de 45h</th>\n",
       "    </tr>\n",
       "  </thead>\n",
       "  <tbody>\n",
       "    <tr>\n",
       "      <th>0</th>\n",
       "      <td>0</td>\n",
       "      <td>0</td>\n",
       "      <td>1</td>\n",
       "      <td>0</td>\n",
       "      <td>0</td>\n",
       "      <td>0</td>\n",
       "      <td>1</td>\n",
       "      <td>0</td>\n",
       "      <td>0</td>\n",
       "      <td>0</td>\n",
       "      <td>...</td>\n",
       "      <td>0</td>\n",
       "      <td>1</td>\n",
       "      <td>0</td>\n",
       "      <td>1</td>\n",
       "      <td>0</td>\n",
       "      <td>1</td>\n",
       "      <td>0</td>\n",
       "      <td>1</td>\n",
       "      <td>0</td>\n",
       "      <td>0</td>\n",
       "    </tr>\n",
       "    <tr>\n",
       "      <th>1</th>\n",
       "      <td>0</td>\n",
       "      <td>0</td>\n",
       "      <td>0</td>\n",
       "      <td>1</td>\n",
       "      <td>0</td>\n",
       "      <td>0</td>\n",
       "      <td>0</td>\n",
       "      <td>0</td>\n",
       "      <td>1</td>\n",
       "      <td>0</td>\n",
       "      <td>...</td>\n",
       "      <td>0</td>\n",
       "      <td>1</td>\n",
       "      <td>1</td>\n",
       "      <td>0</td>\n",
       "      <td>0</td>\n",
       "      <td>1</td>\n",
       "      <td>0</td>\n",
       "      <td>0</td>\n",
       "      <td>1</td>\n",
       "      <td>0</td>\n",
       "    </tr>\n",
       "    <tr>\n",
       "      <th>2</th>\n",
       "      <td>0</td>\n",
       "      <td>0</td>\n",
       "      <td>1</td>\n",
       "      <td>0</td>\n",
       "      <td>0</td>\n",
       "      <td>1</td>\n",
       "      <td>0</td>\n",
       "      <td>0</td>\n",
       "      <td>0</td>\n",
       "      <td>0</td>\n",
       "      <td>...</td>\n",
       "      <td>0</td>\n",
       "      <td>1</td>\n",
       "      <td>1</td>\n",
       "      <td>0</td>\n",
       "      <td>0</td>\n",
       "      <td>1</td>\n",
       "      <td>0</td>\n",
       "      <td>1</td>\n",
       "      <td>0</td>\n",
       "      <td>0</td>\n",
       "    </tr>\n",
       "    <tr>\n",
       "      <th>3</th>\n",
       "      <td>0</td>\n",
       "      <td>0</td>\n",
       "      <td>0</td>\n",
       "      <td>1</td>\n",
       "      <td>0</td>\n",
       "      <td>1</td>\n",
       "      <td>0</td>\n",
       "      <td>0</td>\n",
       "      <td>0</td>\n",
       "      <td>0</td>\n",
       "      <td>...</td>\n",
       "      <td>0</td>\n",
       "      <td>0</td>\n",
       "      <td>1</td>\n",
       "      <td>0</td>\n",
       "      <td>0</td>\n",
       "      <td>1</td>\n",
       "      <td>0</td>\n",
       "      <td>1</td>\n",
       "      <td>0</td>\n",
       "      <td>0</td>\n",
       "    </tr>\n",
       "    <tr>\n",
       "      <th>4</th>\n",
       "      <td>1</td>\n",
       "      <td>0</td>\n",
       "      <td>0</td>\n",
       "      <td>0</td>\n",
       "      <td>0</td>\n",
       "      <td>1</td>\n",
       "      <td>0</td>\n",
       "      <td>0</td>\n",
       "      <td>0</td>\n",
       "      <td>0</td>\n",
       "      <td>...</td>\n",
       "      <td>0</td>\n",
       "      <td>0</td>\n",
       "      <td>1</td>\n",
       "      <td>0</td>\n",
       "      <td>0</td>\n",
       "      <td>1</td>\n",
       "      <td>0</td>\n",
       "      <td>1</td>\n",
       "      <td>0</td>\n",
       "      <td>0</td>\n",
       "    </tr>\n",
       "    <tr>\n",
       "      <th>...</th>\n",
       "      <td>...</td>\n",
       "      <td>...</td>\n",
       "      <td>...</td>\n",
       "      <td>...</td>\n",
       "      <td>...</td>\n",
       "      <td>...</td>\n",
       "      <td>...</td>\n",
       "      <td>...</td>\n",
       "      <td>...</td>\n",
       "      <td>...</td>\n",
       "      <td>...</td>\n",
       "      <td>...</td>\n",
       "      <td>...</td>\n",
       "      <td>...</td>\n",
       "      <td>...</td>\n",
       "      <td>...</td>\n",
       "      <td>...</td>\n",
       "      <td>...</td>\n",
       "      <td>...</td>\n",
       "      <td>...</td>\n",
       "      <td>...</td>\n",
       "    </tr>\n",
       "    <tr>\n",
       "      <th>32556</th>\n",
       "      <td>1</td>\n",
       "      <td>0</td>\n",
       "      <td>0</td>\n",
       "      <td>0</td>\n",
       "      <td>0</td>\n",
       "      <td>1</td>\n",
       "      <td>0</td>\n",
       "      <td>0</td>\n",
       "      <td>0</td>\n",
       "      <td>0</td>\n",
       "      <td>...</td>\n",
       "      <td>0</td>\n",
       "      <td>1</td>\n",
       "      <td>1</td>\n",
       "      <td>0</td>\n",
       "      <td>0</td>\n",
       "      <td>1</td>\n",
       "      <td>0</td>\n",
       "      <td>0</td>\n",
       "      <td>1</td>\n",
       "      <td>0</td>\n",
       "    </tr>\n",
       "    <tr>\n",
       "      <th>32557</th>\n",
       "      <td>0</td>\n",
       "      <td>0</td>\n",
       "      <td>1</td>\n",
       "      <td>0</td>\n",
       "      <td>0</td>\n",
       "      <td>1</td>\n",
       "      <td>0</td>\n",
       "      <td>0</td>\n",
       "      <td>0</td>\n",
       "      <td>0</td>\n",
       "      <td>...</td>\n",
       "      <td>0</td>\n",
       "      <td>1</td>\n",
       "      <td>1</td>\n",
       "      <td>0</td>\n",
       "      <td>0</td>\n",
       "      <td>1</td>\n",
       "      <td>0</td>\n",
       "      <td>1</td>\n",
       "      <td>0</td>\n",
       "      <td>0</td>\n",
       "    </tr>\n",
       "    <tr>\n",
       "      <th>32558</th>\n",
       "      <td>0</td>\n",
       "      <td>0</td>\n",
       "      <td>0</td>\n",
       "      <td>1</td>\n",
       "      <td>0</td>\n",
       "      <td>1</td>\n",
       "      <td>0</td>\n",
       "      <td>0</td>\n",
       "      <td>0</td>\n",
       "      <td>0</td>\n",
       "      <td>...</td>\n",
       "      <td>0</td>\n",
       "      <td>1</td>\n",
       "      <td>1</td>\n",
       "      <td>0</td>\n",
       "      <td>0</td>\n",
       "      <td>1</td>\n",
       "      <td>0</td>\n",
       "      <td>1</td>\n",
       "      <td>0</td>\n",
       "      <td>0</td>\n",
       "    </tr>\n",
       "    <tr>\n",
       "      <th>32559</th>\n",
       "      <td>1</td>\n",
       "      <td>0</td>\n",
       "      <td>0</td>\n",
       "      <td>0</td>\n",
       "      <td>0</td>\n",
       "      <td>1</td>\n",
       "      <td>0</td>\n",
       "      <td>0</td>\n",
       "      <td>0</td>\n",
       "      <td>0</td>\n",
       "      <td>...</td>\n",
       "      <td>0</td>\n",
       "      <td>1</td>\n",
       "      <td>1</td>\n",
       "      <td>0</td>\n",
       "      <td>0</td>\n",
       "      <td>1</td>\n",
       "      <td>0</td>\n",
       "      <td>0</td>\n",
       "      <td>1</td>\n",
       "      <td>0</td>\n",
       "    </tr>\n",
       "    <tr>\n",
       "      <th>32560</th>\n",
       "      <td>0</td>\n",
       "      <td>0</td>\n",
       "      <td>0</td>\n",
       "      <td>1</td>\n",
       "      <td>0</td>\n",
       "      <td>0</td>\n",
       "      <td>0</td>\n",
       "      <td>0</td>\n",
       "      <td>1</td>\n",
       "      <td>0</td>\n",
       "      <td>...</td>\n",
       "      <td>0</td>\n",
       "      <td>1</td>\n",
       "      <td>0</td>\n",
       "      <td>1</td>\n",
       "      <td>0</td>\n",
       "      <td>1</td>\n",
       "      <td>0</td>\n",
       "      <td>1</td>\n",
       "      <td>0</td>\n",
       "      <td>0</td>\n",
       "    </tr>\n",
       "  </tbody>\n",
       "</table>\n",
       "<p>30162 rows × 40 columns</p>\n",
       "</div>"
      ],
      "text/plain": [
       "       age_17-28 ans  age_29-37 ans  age_38-48 ans  age_49-60 ans  \\\n",
       "0                  0              0              1              0   \n",
       "1                  0              0              0              1   \n",
       "2                  0              0              1              0   \n",
       "3                  0              0              0              1   \n",
       "4                  1              0              0              0   \n",
       "...              ...            ...            ...            ...   \n",
       "32556              1              0              0              0   \n",
       "32557              0              0              1              0   \n",
       "32558              0              0              0              1   \n",
       "32559              1              0              0              0   \n",
       "32560              0              0              0              1   \n",
       "\n",
       "       age_61 ans et +  workclass_ Private  workclass_Government  \\\n",
       "0                    0                   0                     1   \n",
       "1                    0                   0                     0   \n",
       "2                    0                   1                     0   \n",
       "3                    0                   1                     0   \n",
       "4                    0                   1                     0   \n",
       "...                ...                 ...                   ...   \n",
       "32556                0                   1                     0   \n",
       "32557                0                   1                     0   \n",
       "32558                0                   1                     0   \n",
       "32559                0                   1                     0   \n",
       "32560                0                   0                     0   \n",
       "\n",
       "       workclass_Not-Working  workclass_Self  education_ Prof-school  ...  \\\n",
       "0                          0               0                       0  ...   \n",
       "1                          0               1                       0  ...   \n",
       "2                          0               0                       0  ...   \n",
       "3                          0               0                       0  ...   \n",
       "4                          0               0                       0  ...   \n",
       "...                      ...             ...                     ...  ...   \n",
       "32556                      0               0                       0  ...   \n",
       "32557                      0               0                       0  ...   \n",
       "32558                      0               0                       0  ...   \n",
       "32559                      0               0                       0  ...   \n",
       "32560                      0               1                       0  ...   \n",
       "\n",
       "       race_ Other  race_ White  capital_gain_0  capital_gain_0-50K  \\\n",
       "0                0            1               0                   1   \n",
       "1                0            1               1                   0   \n",
       "2                0            1               1                   0   \n",
       "3                0            0               1                   0   \n",
       "4                0            0               1                   0   \n",
       "...            ...          ...             ...                 ...   \n",
       "32556            0            1               1                   0   \n",
       "32557            0            1               1                   0   \n",
       "32558            0            1               1                   0   \n",
       "32559            0            1               1                   0   \n",
       "32560            0            1               0                   1   \n",
       "\n",
       "       capital_gain_50K et +  capital_loss_0  capital_loss_0-5K  \\\n",
       "0                          0               1                  0   \n",
       "1                          0               1                  0   \n",
       "2                          0               1                  0   \n",
       "3                          0               1                  0   \n",
       "4                          0               1                  0   \n",
       "...                      ...             ...                ...   \n",
       "32556                      0               1                  0   \n",
       "32557                      0               1                  0   \n",
       "32558                      0               1                  0   \n",
       "32559                      0               1                  0   \n",
       "32560                      0               1                  0   \n",
       "\n",
       "       hours_per_week_40-45h  hours_per_week_Moins de 40h  \\\n",
       "0                          1                            0   \n",
       "1                          0                            1   \n",
       "2                          1                            0   \n",
       "3                          1                            0   \n",
       "4                          1                            0   \n",
       "...                      ...                          ...   \n",
       "32556                      0                            1   \n",
       "32557                      1                            0   \n",
       "32558                      1                            0   \n",
       "32559                      0                            1   \n",
       "32560                      1                            0   \n",
       "\n",
       "       hours_per_week_Plus de 45h  \n",
       "0                               0  \n",
       "1                               0  \n",
       "2                               0  \n",
       "3                               0  \n",
       "4                               0  \n",
       "...                           ...  \n",
       "32556                           0  \n",
       "32557                           0  \n",
       "32558                           0  \n",
       "32559                           0  \n",
       "32560                           0  \n",
       "\n",
       "[30162 rows x 40 columns]"
      ]
     },
     "execution_count": 40,
     "metadata": {},
     "output_type": "execute_result"
    }
   ],
   "source": [
    "df_4 = pd.get_dummies(df_4)\n",
    "df_4"
   ]
  },
  {
   "cell_type": "markdown",
   "id": "0b4c4d40",
   "metadata": {},
   "source": [
    "## Echantillonnage"
   ]
  },
  {
   "cell_type": "code",
   "execution_count": 41,
   "id": "5b6bf817",
   "metadata": {
    "scrolled": true
   },
   "outputs": [],
   "source": [
    "#On ne va pas travailler sur la totalité de nos observations, il est important de réaliser un échantillonnage \n",
    "#Train set, Test set\n",
    "y = df_3['income'] #On défini la variable a expliquer\n",
    "y=y.astype('int')\n",
    "X = df_4 # On défini nos features"
   ]
  },
  {
   "cell_type": "code",
   "execution_count": 42,
   "id": "67c6599b",
   "metadata": {},
   "outputs": [],
   "source": [
    "X_train, X_test, y_train, y_test = train_test_split(\n",
    "    X, y, train_size=0.80, test_size=0.20, random_state=0, stratify=y) \n",
    "# On réalise l'échantillonage en splitant le datasets a 80% pour le train set et 20% pour le test set\n",
    "# On initialise un random_state égal à 0 pour obtenir toujours le même tirage aléatoire\n",
    "# On initialise le paramètre de stratification afin de conserver la répartition par strate"
   ]
  },
  {
   "cell_type": "markdown",
   "id": "529f17e1",
   "metadata": {},
   "source": [
    "# modélisation"
   ]
  },
  {
   "cell_type": "markdown",
   "id": "e37e6735",
   "metadata": {},
   "source": [
    "### DecisionTreeClassifier"
   ]
  },
  {
   "cell_type": "code",
   "execution_count": 43,
   "id": "ff6eb0df",
   "metadata": {
    "scrolled": false
   },
   "outputs": [
    {
     "name": "stdout",
     "output_type": "stream",
     "text": [
      "Accuracy: 0.8279462953754351\n",
      "f-mesure: 0.8279462953754351\n",
      "              precision    recall  f1-score   support\n",
      "\n",
      "           0       0.86      0.92      0.89      4531\n",
      "           1       0.70      0.55      0.61      1502\n",
      "\n",
      "    accuracy                           0.83      6033\n",
      "   macro avg       0.78      0.73      0.75      6033\n",
      "weighted avg       0.82      0.83      0.82      6033\n",
      "\n"
     ]
    }
   ],
   "source": [
    "clf = DecisionTreeClassifier(max_leaf_nodes=10)\n",
    "clf.fit(X_train, y_train)\n",
    "y_pred = clf.predict(X_test)\n",
    "print(\"Accuracy:\", metrics.accuracy_score(y_test, y_pred))\n",
    "print(\"f-mesure:\", metrics.f1_score(y_test, y_pred, average='micro'))\n",
    "print(metrics.classification_report(y_test, y_pred))\n",
    "score = metrics.accuracy_score(y_test, y_pred)"
   ]
  },
  {
   "cell_type": "markdown",
   "id": "a8510db3",
   "metadata": {},
   "source": [
    "### RandomForest"
   ]
  },
  {
   "cell_type": "code",
   "execution_count": 44,
   "id": "6c26cc60",
   "metadata": {},
   "outputs": [],
   "source": [
    "from sklearn.ensemble import RandomForestClassifier, ExtraTreesClassifier\n",
    "from sklearn import metrics\n",
    "from sklearn.model_selection import GridSearchCV, cross_val_score"
   ]
  },
  {
   "cell_type": "markdown",
   "id": "c83ccc2a",
   "metadata": {},
   "source": [
    "#### Recherche des meilleurs paramètres du randomforest et Crossvalidation"
   ]
  },
  {
   "cell_type": "raw",
   "id": "0c87d04d",
   "metadata": {},
   "source": [
    "grid = { \n",
    "    'n_estimators': [10,50,100,200],\n",
    "    'criterion' :['gini','entropy','log_loss'],\n",
    "    'random_state' : [0]\n",
    "} #On défini une grille de paramètre"
   ]
  },
  {
   "cell_type": "raw",
   "id": "9000dc13",
   "metadata": {},
   "source": [
    "rf_cv = GridSearchCV(estimator=RandomForestClassifier(), param_grid=grid, cv= 5)\n",
    "#On test toute les combinaisons de paramètres défini précédemment\n",
    "#On réalise également une cross validation avec 5 différent split de train test\n",
    "rf_cv.fit(X_train, y_train)"
   ]
  },
  {
   "cell_type": "raw",
   "id": "c4dd4d39",
   "metadata": {},
   "source": [
    "rf_cv.best_params_ #Pour afficher les paramètres permettant d'obtenir la meilleurs acc"
   ]
  },
  {
   "cell_type": "raw",
   "id": "99eb57e9",
   "metadata": {
    "scrolled": true
   },
   "source": [
    "rf_cv.best_score_ # score atteint avec les paramètres définies par best params\n"
   ]
  },
  {
   "cell_type": "code",
   "execution_count": 45,
   "id": "f0afd961",
   "metadata": {
    "scrolled": true
   },
   "outputs": [
    {
     "name": "stdout",
     "output_type": "stream",
     "text": [
      "Accuracy: 0.8279462953754351\n",
      "f-mesure: 0.8279462953754351\n",
      "              precision    recall  f1-score   support\n",
      "\n",
      "           0       0.86      0.92      0.89      4531\n",
      "           1       0.70      0.55      0.61      1502\n",
      "\n",
      "    accuracy                           0.83      6033\n",
      "   macro avg       0.78      0.73      0.75      6033\n",
      "weighted avg       0.82      0.83      0.82      6033\n",
      "\n"
     ]
    }
   ],
   "source": [
    "model = RandomForestClassifier(criterion='gini', n_estimators=100)\n",
    "model.fit(X_train, y_train)\n",
    "y_pred = clf.predict(X_test)\n",
    "print(\"Accuracy:\", metrics.accuracy_score(y_test, y_pred))\n",
    "print(\"f-mesure:\", metrics.f1_score(y_test, y_pred, average='micro'))\n",
    "print(metrics.classification_report(y_test, y_pred))\n",
    "score = metrics.accuracy_score(y_test, y_pred)"
   ]
  },
  {
   "cell_type": "code",
   "execution_count": 46,
   "id": "510ebb62",
   "metadata": {},
   "outputs": [
    {
     "name": "stdout",
     "output_type": "stream",
     "text": [
      "[[4173  358]\n",
      " [ 680  822]]\n"
     ]
    }
   ],
   "source": [
    "cm = metrics.confusion_matrix(y_test, y_pred)\n",
    "print(cm)"
   ]
  },
  {
   "cell_type": "code",
   "execution_count": 47,
   "id": "06e48247",
   "metadata": {},
   "outputs": [
    {
     "data": {
      "image/png": "[encoded data removed]",
      "text/plain": [
       "<Figure size 648x648 with 2 Axes>"
      ]
     },
     "metadata": {
      "needs_background": "light"
     },
     "output_type": "display_data"
    }
   ],
   "source": [
    "plt.figure(figsize=(9,9))\n",
    "sns.heatmap(cm, annot=True, fmt=\".3f\", linewidths=.5, square = True, cmap = 'Blues_r');\n",
    "plt.ylabel('Actual label');\n",
    "plt.xlabel('Predicted label');\n",
    "all_sample_title = 'Accuracy Score: {0}'.format(score)\n",
    "plt.title(all_sample_title, size = 15);"
   ]
  },
  {
   "cell_type": "markdown",
   "id": "ebf76d26",
   "metadata": {},
   "source": [
    "### LogisticRegression"
   ]
  },
  {
   "cell_type": "code",
   "execution_count": 48,
   "id": "2d294346",
   "metadata": {
    "scrolled": true
   },
   "outputs": [
    {
     "name": "stdout",
     "output_type": "stream",
     "text": [
      "Accuracy: 0.8390518813194099\n",
      "f-mesure: 0.8390518813194099\n",
      "              precision    recall  f1-score   support\n",
      "\n",
      "           0       0.87      0.92      0.90      4531\n",
      "           1       0.72      0.58      0.64      1502\n",
      "\n",
      "    accuracy                           0.84      6033\n",
      "   macro avg       0.79      0.75      0.77      6033\n",
      "weighted avg       0.83      0.84      0.83      6033\n",
      "\n"
     ]
    },
    {
     "name": "stderr",
     "output_type": "stream",
     "text": [
      "C:\\Users\\Admin\\anaconda3\\lib\\site-packages\\sklearn\\linear_model\\_logistic.py:814: ConvergenceWarning: lbfgs failed to converge (status=1):\n",
      "STOP: TOTAL NO. of ITERATIONS REACHED LIMIT.\n",
      "\n",
      "Increase the number of iterations (max_iter) or scale the data as shown in:\n",
      "    https://scikit-learn.org/stable/modules/preprocessing.html\n",
      "Please also refer to the documentation for alternative solver options:\n",
      "    https://scikit-learn.org/stable/modules/linear_model.html#logistic-regression\n",
      "  n_iter_i = _check_optimize_result(\n"
     ]
    }
   ],
   "source": [
    "from sklearn.linear_model import LogisticRegression\n",
    "from sklearn import metrics\n",
    "\n",
    "model = LogisticRegression()\n",
    "model.fit(X_train, y_train)\n",
    "y_pred = model.predict(X_test)\n",
    "print(\"Accuracy:\", metrics.accuracy_score(y_test, y_pred))\n",
    "print(\"f-mesure:\", metrics.f1_score(y_test, y_pred, average='micro'))\n",
    "print(metrics.classification_report(y_test, y_pred))\n",
    "score = metrics.accuracy_score(y_test, y_pred)"
   ]
  },
  {
   "cell_type": "code",
   "execution_count": 49,
   "id": "33bc4980",
   "metadata": {},
   "outputs": [
    {
     "name": "stdout",
     "output_type": "stream",
     "text": [
      "[[4188  343]\n",
      " [ 628  874]]\n"
     ]
    }
   ],
   "source": [
    "cm = metrics.confusion_matrix(y_test, y_pred)\n",
    "print(cm)"
   ]
  },
  {
   "cell_type": "code",
   "execution_count": 50,
   "id": "fec13cd4",
   "metadata": {
    "scrolled": true
   },
   "outputs": [
    {
     "data": {
      "image/png": "[encoded data removed]",
      "text/plain": [
       "<Figure size 648x648 with 2 Axes>"
      ]
     },
     "metadata": {
      "needs_background": "light"
     },
     "output_type": "display_data"
    }
   ],
   "source": [
    "plt.figure(figsize=(9,9))\n",
    "sns.heatmap(cm, annot=True, fmt=\".3f\", linewidths=.5, square = True, cmap = 'Blues_r');\n",
    "plt.ylabel('Actual label');\n",
    "plt.xlabel('Predicted label');\n",
    "all_sample_title = 'Accuracy Score: {0}'.format(score)\n",
    "plt.title(all_sample_title, size = 15);"
   ]
  },
  {
   "cell_type": "code",
   "execution_count": 51,
   "id": "1e2cdcc0",
   "metadata": {},
   "outputs": [],
   "source": [
    "lr_probs = model.predict_proba(X_test)\n",
    "lr_probs = lr_probs[:, 1]\n",
    "ns_probs = [0 for _ in range(len(y_test))]\n",
    "ns_auc = roc_auc_score(y_test , ns_probs)\n",
    "lr_auc = roc_auc_score(y_test , y_pred)"
   ]
  },
  {
   "cell_type": "code",
   "execution_count": 52,
   "id": "0a232c43",
   "metadata": {},
   "outputs": [
    {
     "name": "stdout",
     "output_type": "stream",
     "text": [
      "No Skill: ROC AUC=0.500\n",
      "Logistic: ROC AUC=0.753\n"
     ]
    }
   ],
   "source": [
    "print('No Skill: ROC AUC=%.3f' % (ns_auc))\n",
    "print('Logistic: ROC AUC=%.3f' % (lr_auc))"
   ]
  },
  {
   "cell_type": "code",
   "execution_count": 53,
   "id": "bfca7806",
   "metadata": {},
   "outputs": [],
   "source": [
    "ns_fpr, ns_tpr, _ = roc_curve(y_test, ns_probs)\n",
    "lr_fpr, lr_tpr, _ = roc_curve(y_test, lr_probs)"
   ]
  },
  {
   "cell_type": "code",
   "execution_count": 54,
   "id": "cb16f6b5",
   "metadata": {
    "scrolled": false
   },
   "outputs": [
    {
     "data": {
      "image/png": "[encoded data removed]",
      "text/plain": [
       "<Figure size 1440x936 with 1 Axes>"
      ]
     },
     "metadata": {
      "needs_background": "light"
     },
     "output_type": "display_data"
    }
   ],
   "source": [
    "plt.rcParams[\"figure.figsize\"] = (20, 13)\n",
    "plt.plot(ns_fpr, ns_tpr, linestyle='--', label='No Skill')\n",
    "plt.plot(lr_fpr, lr_tpr, marker='.', label='Logistic')\n",
    "plt.xlabel('False Positive Rate')\n",
    "plt.ylabel('True Positive Rate')\n",
    "# show the legend\n",
    "plt.legend()\n",
    "# show the plot\n",
    "plt.show()"
   ]
  },
  {
   "cell_type": "code",
   "execution_count": 55,
   "id": "3c4de3f5",
   "metadata": {
    "scrolled": false
   },
   "outputs": [
    {
     "name": "stdout",
     "output_type": "stream",
     "text": [
      "[[-1.0753577   0.03971974  0.4959944   0.57887732  0.01602586  0.35019917\n",
      "   0.33456354 -0.72886311  0.09936002  1.27786278 -0.39292427  0.28059673\n",
      "  -1.7587418  -0.45588997  1.34373592 -0.8536648   0.61428502  1.59882937\n",
      "  -0.89732831 -0.64624144 -0.20581156 -0.30496687  0.52462413  0.37109632\n",
      "  -0.53880367  0.17753555  0.03158572 -0.1680975   0.16572693  0.22559906\n",
      "  -0.57413122  0.40616234 -2.16794302 -0.57007044  2.79327307 -0.52189921\n",
      "   0.57715882  0.09882189 -0.55628009  0.51271781]] [0.1661888]\n"
     ]
    }
   ],
   "source": [
    "print(model.coef_, model.intercept_)"
   ]
  },
  {
   "cell_type": "code",
   "execution_count": 56,
   "id": "37d4cb7d",
   "metadata": {
    "scrolled": true
   },
   "outputs": [
    {
     "name": "stdout",
     "output_type": "stream",
     "text": [
      "Training set score: 0.840\n",
      "Test set score: 0.839\n",
      "Warning: Maximum number of iterations has been exceeded.\n",
      "         Current function value: 0.341219\n",
      "         Iterations: 35\n",
      "                           Logit Regression Results                           \n",
      "==============================================================================\n",
      "Dep. Variable:                 income   No. Observations:                30162\n",
      "Model:                          Logit   Df Residuals:                    30129\n",
      "Method:                           MLE   Df Model:                           32\n",
      "Date:                Sat, 08 Oct 2022   Pseudo R-squ.:                  0.3919\n",
      "Time:                        18:07:07   Log-Likelihood:                -10292.\n",
      "converged:                      False   LL-Null:                       -16925.\n",
      "Covariance Type:            nonrobust   LLR p-value:                     0.000\n",
      "================================================================================================\n",
      "                                   coef    std err          z      P>|z|      [0.025      0.975]\n",
      "------------------------------------------------------------------------------------------------\n",
      "age_17-28 ans                   -0.8006        nan        nan        nan         nan         nan\n",
      "age_29-37 ans                    0.2676        nan        nan        nan         nan         nan\n",
      "age_38-48 ans                    0.7055        nan        nan        nan         nan         nan\n",
      "age_49-60 ans                    0.8305        nan        nan        nan         nan         nan\n",
      "age_61 ans et +                  0.2576        nan        nan        nan         nan         nan\n",
      "workclass_ Private               4.9676   1.87e+06   2.66e-06      1.000   -3.67e+06    3.67e+06\n",
      "workclass_Government             4.9712   1.87e+06   2.66e-06      1.000   -3.66e+06    3.66e+06\n",
      "workclass_Not-Working          -13.4120   1.87e+06  -7.16e-06      1.000   -3.67e+06    3.67e+06\n",
      "workclass_Self                   4.7338   1.86e+06   2.54e-06      1.000   -3.65e+06    3.65e+06\n",
      "education_ Prof-school           1.4716   3.38e+06   4.36e-07      1.000   -6.62e+06    6.62e+06\n",
      "education_Assoc                 -0.1926   3.32e+06  -5.79e-08      1.000   -6.52e+06    6.52e+06\n",
      "education_Bachelors              0.4596    3.2e+06   1.44e-07      1.000   -6.27e+06    6.27e+06\n",
      "education_Before-HS             -1.6378   3.33e+06  -4.92e-07      1.000   -6.53e+06    6.53e+06\n",
      "education_College               -0.3313   3.22e+06  -1.03e-07      1.000   -6.31e+06    6.31e+06\n",
      "education_Doctorate              1.4409    3.4e+06   4.24e-07      1.000   -6.66e+06    6.66e+06\n",
      "education_HS                    -0.6832   3.32e+06  -2.05e-07      1.000   -6.52e+06    6.52e+06\n",
      "education_Masters                0.7337   3.38e+06   2.17e-07      1.000   -6.63e+06    6.63e+06\n",
      "marital_status_Married           1.9777   2.27e+06   8.72e-07      1.000   -4.44e+06    4.44e+06\n",
      "marital_status_Never-married    -0.4745   2.21e+06  -2.15e-07      1.000   -4.34e+06    4.34e+06\n",
      "marital_status_Not-Married      -0.2425   2.19e+06  -1.11e-07      1.000   -4.29e+06    4.29e+06\n",
      "occupation_ Adm-clerical         0.0251   1.46e+06   1.72e-08      1.000   -2.86e+06    2.86e+06\n",
      "occupation_Army                 -0.6986    1.5e+06  -4.65e-07      1.000   -2.94e+06    2.94e+06\n",
      "occupation_Office-employee       0.8026   1.56e+06   5.14e-07      1.000   -3.06e+06    3.06e+06\n",
      "occupation_Other                 0.6306   1.56e+06   4.05e-07      1.000   -3.05e+06    3.05e+06\n",
      "occupation_Physical-work        -0.2615   1.56e+06  -1.68e-07      1.000   -3.05e+06    3.05e+06\n",
      "occupation_Professional          0.4540   1.57e+06   2.89e-07      1.000   -3.08e+06    3.08e+06\n",
      "occupation_Sales                 0.3084   1.49e+06   2.06e-07      1.000   -2.93e+06    2.93e+06\n",
      "race_ Amer-Indian-Eskimo        -0.0160        nan        nan        nan         nan         nan\n",
      "race_ Asian-Pac-Islander         0.3985        nan        nan        nan         nan         nan\n",
      "race_ Black                      0.4600        nan        nan        nan         nan         nan\n",
      "race_ Other                     -0.1936        nan        nan        nan         nan         nan\n",
      "race_ White                      0.6119        nan        nan        nan         nan         nan\n",
      "capital_gain_0                  -8.8962   1.18e+06  -7.57e-06      1.000    -2.3e+06     2.3e+06\n",
      "capital_gain_0-50K              -7.2755   1.26e+06  -5.76e-06      1.000   -2.47e+06    2.47e+06\n",
      "capital_gain_50K et +           17.4324   1.35e+06    1.3e-05      1.000   -2.64e+06    2.64e+06\n",
      "capital_loss_0                   0.0837   8.57e+05   9.77e-08      1.000   -1.68e+06    1.68e+06\n",
      "capital_loss_0-5K                1.1770   1.15e+06   1.02e-06      1.000   -2.25e+06    2.25e+06\n",
      "hours_per_week_40-45h            0.5053        nan        nan        nan         nan         nan\n",
      "hours_per_week_Moins de 40h     -0.1752        nan        nan        nan         nan         nan\n",
      "hours_per_week_Plus de 45h       0.9306        nan        nan        nan         nan         nan\n",
      "================================================================================================\n"
     ]
    },
    {
     "name": "stderr",
     "output_type": "stream",
     "text": [
      "C:\\Users\\Admin\\anaconda3\\lib\\site-packages\\statsmodels\\base\\model.py:604: ConvergenceWarning: Maximum Likelihood optimization failed to converge. Check mle_retvals\n",
      "  warnings.warn(\"Maximum Likelihood optimization failed to \"\n"
     ]
    }
   ],
   "source": [
    "print(\"Training set score: {:.3f}\".format(model.score(X_train,y_train)))\n",
    "print(\"Test set score: {:.3f}\".format(model.score(X_test,y_test)))\n",
    "\n",
    "import statsmodels.api as sm\n",
    "logit_model=sm.Logit(y,X)\n",
    "result=logit_model.fit()\n",
    "print(result.summary())"
   ]
  },
  {
   "cell_type": "code",
   "execution_count": 57,
   "id": "5fa3a964",
   "metadata": {},
   "outputs": [
    {
     "data": {
      "text/plain": [
       "0        0\n",
       "1        0\n",
       "2        0\n",
       "3        0\n",
       "4        0\n",
       "        ..\n",
       "32556    0\n",
       "32557    1\n",
       "32558    0\n",
       "32559    0\n",
       "32560    1\n",
       "Name: income, Length: 30162, dtype: int32"
      ]
     },
     "execution_count": 57,
     "metadata": {},
     "output_type": "execute_result"
    }
   ],
   "source": [
    "y"
   ]
  },
  {
   "cell_type": "markdown",
   "id": "2b7cbb6c",
   "metadata": {},
   "source": [
    "### KNN"
   ]
  },
  {
   "cell_type": "raw",
   "id": "2ce2e651",
   "metadata": {},
   "source": [
    "grid = { \n",
    "    'n_neighbors': [3,5,7,10],\n",
    "    'weights': ['uniform','distance'],\n",
    "    'algorithm' :['auto','ball_tree','kd_tree','brute'],\n",
    "    'metric':['manhattan','euclidean']\n",
    "} #On défini une grille de paramètre"
   ]
  },
  {
   "cell_type": "raw",
   "id": "17b24eb6",
   "metadata": {},
   "source": [
    "rf_cv = GridSearchCV(estimator=KNeighborsClassifier(), param_grid=grid)\n",
    "#On test toute les combinaisons de paramètres défini précédemment\n",
    "#On réalise également une cross validation avec 5 différent split de train test\n",
    "rf_cv.fit(X_train, y_train)"
   ]
  },
  {
   "cell_type": "raw",
   "id": "85c05a5c",
   "metadata": {},
   "source": [
    "rf_cv.best_params_ #Pour afficher les paramètres permettant d'obtenir la meilleurs acc"
   ]
  },
  {
   "cell_type": "raw",
   "id": "ba890d08",
   "metadata": {},
   "source": [
    "rf_cv.best_score_ # score atteint avec les paramètres définies par best params\n"
   ]
  },
  {
   "cell_type": "code",
   "execution_count": 58,
   "id": "6024e397",
   "metadata": {
    "scrolled": true
   },
   "outputs": [
    {
     "name": "stdout",
     "output_type": "stream",
     "text": [
      "Accuracy: 0.8242996850654732\n",
      "f-mesure: 0.8242996850654732\n",
      "              precision    recall  f1-score   support\n",
      "\n",
      "           0       0.85      0.93      0.89      4531\n",
      "           1       0.71      0.49      0.58      1502\n",
      "\n",
      "    accuracy                           0.82      6033\n",
      "   macro avg       0.78      0.71      0.74      6033\n",
      "weighted avg       0.81      0.82      0.81      6033\n",
      "\n"
     ]
    }
   ],
   "source": [
    "model = KNeighborsClassifier(n_neighbors=10,algorithm='auto',weights='uniform',metric='manhattan')\n",
    "model.fit(X_train, y_train)\n",
    "y_pred = model.predict(X_test)\n",
    "print(\"Accuracy:\", metrics.accuracy_score(y_test, y_pred))\n",
    "print(\"f-mesure:\", metrics.f1_score(y_test, y_pred, average='micro'))\n",
    "print(metrics.classification_report(y_test, y_pred))\n",
    "score = metrics.accuracy_score(y_test, y_pred)"
   ]
  },
  {
   "cell_type": "markdown",
   "id": "483862cb",
   "metadata": {},
   "source": [
    "Gain de % d'accuracy grâce aux choix de parâmètre optimal"
   ]
  },
  {
   "cell_type": "code",
   "execution_count": 60,
   "id": "44f1eb10",
   "metadata": {},
   "outputs": [
    {
     "name": "stdout",
     "output_type": "stream",
     "text": [
      "[[4080  451]\n",
      " [ 640  862]]\n"
     ]
    }
   ],
   "source": [
    "cm = metrics.confusion_matrix(y_test, y_pred)\n",
    "print(cm)"
   ]
  },
  {
   "cell_type": "code",
   "execution_count": 61,
   "id": "e3aabbaf",
   "metadata": {
    "scrolled": true
   },
   "outputs": [
    {
     "data": {
      "image/png": "[encoded data removed]",
      "text/plain": [
       "<Figure size 648x648 with 2 Axes>"
      ]
     },
     "metadata": {
      "needs_background": "light"
     },
     "output_type": "display_data"
    }
   ],
   "source": [
    "plt.figure(figsize=(9,9))\n",
    "sns.heatmap(cm, annot=True, fmt=\".3f\", linewidths=.5, square = True, cmap = 'Blues_r');\n",
    "plt.ylabel('Actual label');\n",
    "plt.xlabel('Predicted label');\n",
    "all_sample_title = 'Accuracy Score: {0}'.format(score)\n",
    "plt.title(all_sample_title, size = 15);"
   ]
  },
  {
   "cell_type": "markdown",
   "id": "86104c32",
   "metadata": {},
   "source": [
    "## SVM (sector vector machine)"
   ]
  },
  {
   "cell_type": "code",
   "execution_count": 62,
   "id": "5df47471",
   "metadata": {
    "scrolled": true
   },
   "outputs": [
    {
     "name": "stdout",
     "output_type": "stream",
     "text": [
      "Accuracy: 0.8402121664180342\n",
      "f-mesure: 0.8402121664180342\n",
      "              precision    recall  f1-score   support\n",
      "\n",
      "           0       0.87      0.93      0.90      4531\n",
      "           1       0.73      0.57      0.64      1502\n",
      "\n",
      "    accuracy                           0.84      6033\n",
      "   macro avg       0.80      0.75      0.77      6033\n",
      "weighted avg       0.83      0.84      0.83      6033\n",
      "\n"
     ]
    }
   ],
   "source": [
    "model = LinearSVC(dual=True,loss='squared_hinge',penalty='l2') #Les paramètres par défauts sont les seuls qui fonctionnent ici\n",
    "model.fit(X_train, y_train)\n",
    "y_pred = model.predict(X_test)\n",
    "print(\"Accuracy:\", metrics.accuracy_score(y_test, y_pred))\n",
    "print(\"f-mesure:\", metrics.f1_score(y_test, y_pred, average='micro'))\n",
    "print(metrics.classification_report(y_test, y_pred))\n",
    "score = metrics.accuracy_score(y_test, y_pred)"
   ]
  },
  {
   "cell_type": "code",
   "execution_count": 63,
   "id": "480ffa7a",
   "metadata": {},
   "outputs": [
    {
     "name": "stdout",
     "output_type": "stream",
     "text": [
      "[[4208  323]\n",
      " [ 641  861]]\n"
     ]
    }
   ],
   "source": [
    "cm = metrics.confusion_matrix(y_test, y_pred)\n",
    "print(cm)"
   ]
  },
  {
   "cell_type": "code",
   "execution_count": 64,
   "id": "1584558a",
   "metadata": {
    "scrolled": false
   },
   "outputs": [
    {
     "data": {
      "image/png": "[encoded data removed]",
      "text/plain": [
       "<Figure size 648x648 with 2 Axes>"
      ]
     },
     "metadata": {
      "needs_background": "light"
     },
     "output_type": "display_data"
    }
   ],
   "source": [
    "plt.figure(figsize=(9,9))\n",
    "sns.heatmap(cm, annot=True, fmt=\".3f\", linewidths=.5, square = True, cmap = 'Blues_r');\n",
    "plt.ylabel('Actual label');\n",
    "plt.xlabel('Predicted label');\n",
    "all_sample_title = 'Accuracy Score: {0}'.format(score)\n",
    "plt.title(all_sample_title, size = 15);"
   ]
  },
  {
   "cell_type": "markdown",
   "id": "2b3f76e5",
   "metadata": {},
   "source": [
    "## SGDclassifier (probablement mauvais)"
   ]
  },
  {
   "cell_type": "code",
   "execution_count": 65,
   "id": "e4044581",
   "metadata": {},
   "outputs": [
    {
     "name": "stdout",
     "output_type": "stream",
     "text": [
      "Accuracy: 0.8373943311785181\n",
      "f-mesure: 0.8373943311785181\n",
      "              precision    recall  f1-score   support\n",
      "\n",
      "           0       0.87      0.93      0.90      4531\n",
      "           1       0.72      0.57      0.64      1502\n",
      "\n",
      "    accuracy                           0.84      6033\n",
      "   macro avg       0.79      0.75      0.77      6033\n",
      "weighted avg       0.83      0.84      0.83      6033\n",
      "\n"
     ]
    }
   ],
   "source": [
    "model = SGDClassifier(random_state = 0) \n",
    "model.fit(X_train, y_train)\n",
    "y_pred = model.predict(X_test)\n",
    "print(\"Accuracy:\", metrics.accuracy_score(y_test, y_pred))\n",
    "print(\"f-mesure:\", metrics.f1_score(y_test, y_pred, average='micro'))\n",
    "print(metrics.classification_report(y_test, y_pred))\n",
    "score = metrics.accuracy_score(y_test, y_pred)"
   ]
  },
  {
   "cell_type": "markdown",
   "id": "1a6ee340",
   "metadata": {},
   "source": [
    "## GaussianNB"
   ]
  },
  {
   "cell_type": "code",
   "execution_count": 66,
   "id": "5ef46124",
   "metadata": {
    "scrolled": true
   },
   "outputs": [
    {
     "name": "stdout",
     "output_type": "stream",
     "text": [
      "Accuracy: 0.8082214486988232\n",
      "f-mesure: 0.8082214486988233\n",
      "              precision    recall  f1-score   support\n",
      "\n",
      "           0       0.88      0.87      0.87      4531\n",
      "           1       0.61      0.63      0.62      1502\n",
      "\n",
      "    accuracy                           0.81      6033\n",
      "   macro avg       0.74      0.75      0.75      6033\n",
      "weighted avg       0.81      0.81      0.81      6033\n",
      "\n"
     ]
    }
   ],
   "source": [
    "model = GaussianNB() \n",
    "#Max iter = nombre d'iteration\n",
    "#hidden_layer_sizes = nombre de neurones\n",
    "#activation =fonction d'activation des neurones\n",
    "model.fit(X_train, y_train)\n",
    "y_pred = model.predict(X_test)\n",
    "print(\"Accuracy:\", metrics.accuracy_score(y_test, y_pred))\n",
    "print(\"f-mesure:\", metrics.f1_score(y_test, y_pred, average='micro'))\n",
    "print(metrics.classification_report(y_test, y_pred))\n",
    "score = metrics.accuracy_score(y_test, y_pred)"
   ]
  },
  {
   "cell_type": "markdown",
   "id": "b5f0e5bc",
   "metadata": {},
   "source": [
    "## MLPClassifer (test pour le fun)"
   ]
  },
  {
   "cell_type": "code",
   "execution_count": 67,
   "id": "59319a6d",
   "metadata": {},
   "outputs": [
    {
     "name": "stdout",
     "output_type": "stream",
     "text": [
      "Accuracy: 0.8279462953754351\n",
      "f-mesure: 0.8279462953754351\n",
      "              precision    recall  f1-score   support\n",
      "\n",
      "           0       0.86      0.91      0.89      4531\n",
      "           1       0.69      0.57      0.62      1502\n",
      "\n",
      "    accuracy                           0.83      6033\n",
      "   macro avg       0.78      0.74      0.75      6033\n",
      "weighted avg       0.82      0.83      0.82      6033\n",
      "\n"
     ]
    },
    {
     "name": "stderr",
     "output_type": "stream",
     "text": [
      "C:\\Users\\Admin\\anaconda3\\lib\\site-packages\\sklearn\\neural_network\\_multilayer_perceptron.py:692: ConvergenceWarning: Stochastic Optimizer: Maximum iterations (1000) reached and the optimization hasn't converged yet.\n",
      "  warnings.warn(\n"
     ]
    }
   ],
   "source": [
    "model = MLPClassifier(hidden_layer_sizes = 100, max_iter = 1000, activation='logistic') \n",
    "#Max iter = nombre d'iteration\n",
    "#hidden_layer_sizes = nombre de neurones\n",
    "#activation =fonction d'activation des neurones\n",
    "model.fit(X_train, y_train)\n",
    "y_pred = model.predict(X_test)\n",
    "print(\"Accuracy:\", metrics.accuracy_score(y_test, y_pred))\n",
    "print(\"f-mesure:\", metrics.f1_score(y_test, y_pred, average='micro'))\n",
    "print(metrics.classification_report(y_test, y_pred))\n",
    "score = metrics.accuracy_score(y_test, y_pred)"
   ]
  },
  {
   "cell_type": "markdown",
   "id": "9b82314a",
   "metadata": {},
   "source": [
    "#### Youpi 83,7 totalement ininterprétable (c'est pas fou dutout pour un réseau de neurones les données sont pas dingues)"
   ]
  },
  {
   "cell_type": "code",
   "execution_count": null,
   "id": "a3bc912e",
   "metadata": {},
   "outputs": [],
   "source": []
  }
 ],
 "metadata": {
  "kernelspec": {
   "display_name": "Python 3 (ipykernel)",
   "language": "python",
   "name": "python3"
  },
  "language_info": {
   "codemirror_mode": {
    "name": "ipython",
    "version": 3
   },
   "file_extension": ".py",
   "mimetype": "text/x-python",
   "name": "python",
   "nbconvert_exporter": "python",
   "pygments_lexer": "ipython3",
   "version": "3.9.12"
  }
 },
 "nbformat": 4,
 "nbformat_minor": 5
}
